{
 "cells": [
  {
   "cell_type": "code",
   "execution_count": 1,
   "id": "95778d53",
   "metadata": {},
   "outputs": [
    {
     "name": "stdout",
     "output_type": "stream",
     "text": [
      "/fast/home/groups/ag_kircher\n"
     ]
    }
   ],
   "source": [
    "import pandas as pd \n",
    "import matplotlib.pyplot as plt\n",
    "import numpy as np\n",
    "import seaborn as sns\n",
    "from os import listdir\n",
    "from scipy import stats as sts\n",
    "\n",
    "%cd \"/data/groups/ag_kircher/\""
   ]
  },
  {
   "cell_type": "code",
   "execution_count": 27,
   "id": "75e53572",
   "metadata": {},
   "outputs": [],
   "source": [
    "samples = ['predictions_BH01.csv',\n",
    "           'predictions_IH01.csv',\n",
    "           'predictions_IH02.csv', \n",
    "           'predictions_IC15.csv', \n",
    "           'predictions_IC17.csv', \n",
    "           'predictions_IC20.csv', \n",
    "           'predictions_IC35.csv', \n",
    "           'predictions_IC37.csv']"
   ]
  },
  {
   "cell_type": "code",
   "execution_count": 41,
   "id": "5397b4f9",
   "metadata": {},
   "outputs": [],
   "source": [
    "samples = [\"predictions_NPH001.csv\", \"predictions_NPH002.csv\", \"predictions_NPH003.csv\", \"predictions_NPH004.csv\", \"predictions_NPH005.csv\", \"predictions_P147_1.csv\", \"predictions_P147_3.csv\", \"predictions_P148_1.csv\", \"predictions_P148_3.csv\", \"predictions_C2_6.csv\", \"predictions_C2_7.csv\", \"predictions_P40_1.csv\", \"predictions_P40_2.csv\"]"
   ]
  },
  {
   "cell_type": "code",
   "execution_count": 43,
   "id": "342acd59",
   "metadata": {},
   "outputs": [],
   "source": [
    "file_list = {}\n",
    "for file in (samples):\n",
    "    file_list[file] = pd.read_csv(\"cfDNA-reanalysis_Graz/kristin/snakemake_rfmodel/results/predictions/37/\" + file, index_col = 0)"
   ]
  },
  {
   "cell_type": "markdown",
   "id": "10ae5769",
   "metadata": {},
   "source": [
    "# Gene organizer set"
   ]
  },
  {
   "cell_type": "code",
   "execution_count": 27,
   "id": "beb35272",
   "metadata": {},
   "outputs": [],
   "source": [
    "gene_associations = pd.read_excel(\"cfDNA-reanalysis_Graz/kristin/rf_model/GeneORGANizer-Confident-typical-v12.xls\")\n",
    "\n",
    "gene_disease_associations = pd.read_csv(\"cfDNA-reanalysis_Graz/kristin/rf_model/diseases-organs.v12-1.csv\")"
   ]
  },
  {
   "cell_type": "code",
   "execution_count": 29,
   "id": "ae7089f8",
   "metadata": {
    "scrolled": true
   },
   "outputs": [
    {
     "data": {
      "text/plain": [
       "Index(['Symbol', 'Name', 'cerebellum', 'brain', 'head', 'uterus', 'ear',\n",
       "       'outer ear', 'middle ear', 'inner ear',\n",
       "       ...\n",
       "       'adrenal gland', 'sweat gland', 'salivary gland', 'thyroid',\n",
       "       'hypothalamus', 'appendix', 'parathyroid', 'thymus', 'fallopian tube',\n",
       "       'vas deferens'],\n",
       "      dtype='object', length=127)"
      ]
     },
     "execution_count": 29,
     "metadata": {},
     "output_type": "execute_result"
    }
   ],
   "source": [
    "gene_associations.columns"
   ]
  },
  {
   "cell_type": "code",
   "execution_count": 35,
   "id": "4a9adffd",
   "metadata": {},
   "outputs": [],
   "source": [
    "import pybiomart as pbm \n",
    "\n",
    "##get biomart dataset \n",
    "dataset = pbm.Dataset(name='hsapiens_gene_ensembl', host='http://www.ensembl.org')\n",
    "\n",
    "##get gene name for each gene id in de_genes\n",
    "names = dataset.query(attributes=['ensembl_gene_id', 'external_gene_name'])"
   ]
  },
  {
   "cell_type": "code",
   "execution_count": 36,
   "id": "2fef252e",
   "metadata": {},
   "outputs": [],
   "source": [
    "go_organ_list = {}\n",
    "for organ in ['blood', 'liver', 'lung', 'breast', 'intestine', 'prostate']:\n",
    "    \n",
    "    genes_organ = gene_associations[gene_associations[organ] == 1]['Symbol']\n",
    "    genes_organ = pd.DataFrame(genes_organ)\n",
    "    gene_IDs_organ = names.merge(genes_organ, left_on = 'Gene name', right_on = 'Symbol')\n",
    "    gene_IDs_organ= gene_IDs_organ['Gene stable ID'].unique()\n",
    "    go_organ_list[organ] = gene_IDs_organ"
   ]
  },
  {
   "cell_type": "code",
   "execution_count": 37,
   "id": "47fdb7b9",
   "metadata": {},
   "outputs": [
    {
     "name": "stdout",
     "output_type": "stream",
     "text": [
      "blood: 1915\n",
      "liver: 1025\n",
      "lung: 1610\n",
      "breast: 483\n",
      "intestine: 1069\n",
      "prostate: 356\n"
     ]
    }
   ],
   "source": [
    "for i in go_organ_list:\n",
    "    print(i + \": \" + str(len(go_organ_list[i])))"
   ]
  },
  {
   "cell_type": "markdown",
   "id": "a489e391",
   "metadata": {},
   "source": [
    "# Graz gene set"
   ]
  },
  {
   "cell_type": "code",
   "execution_count": 2,
   "id": "e814863d",
   "metadata": {},
   "outputs": [],
   "source": [
    "graz_blood = pd.read_csv(\"cfDNA-reanalysis_Graz/kristin/genesets_graz/blood.txt\", sep = \"\\t\").ensembl_gene_id\n",
    "graz_colon = pd.read_csv(\"cfDNA-reanalysis_Graz/kristin/genesets_graz/colon.txt\", sep = \"\\t\").ensembl_gene_id\n",
    "graz_prostate =  pd.read_csv(\"cfDNA-reanalysis_Graz/kristin/genesets_graz/prostate.txt\", sep = \"\\t\").ensembl_gene_id"
   ]
  },
  {
   "cell_type": "code",
   "execution_count": 21,
   "id": "75df791d",
   "metadata": {
    "scrolled": true
   },
   "outputs": [
    {
     "data": {
      "text/plain": [
       "(16855,)"
      ]
     },
     "execution_count": 21,
     "metadata": {},
     "output_type": "execute_result"
    }
   ],
   "source": [
    "np.intersect1d(graz_blood.values, graz_prostate.values).shape"
   ]
  },
  {
   "cell_type": "code",
   "execution_count": 25,
   "id": "d7fd1203",
   "metadata": {},
   "outputs": [
    {
     "data": {
      "text/plain": [
       "(16855,)"
      ]
     },
     "execution_count": 25,
     "metadata": {},
     "output_type": "execute_result"
    }
   ],
   "source": [
    "np.unique(graz_prostate).shape"
   ]
  },
  {
   "cell_type": "code",
   "execution_count": 19,
   "id": "ae77050c",
   "metadata": {},
   "outputs": [
    {
     "data": {
      "text/plain": [
       "False"
      ]
     },
     "execution_count": 19,
     "metadata": {},
     "output_type": "execute_result"
    }
   ],
   "source": [
    "set(graz_blood) <= set(graz_colon)"
   ]
  },
  {
   "cell_type": "code",
   "execution_count": 10,
   "id": "a16cdf86",
   "metadata": {},
   "outputs": [],
   "source": [
    "graz_list = {'blood' : np.array(graz_blood), 'colon': np.array(graz_colon), 'prostate': np.array(graz_prostate)}\n"
   ]
  },
  {
   "cell_type": "code",
   "execution_count": 11,
   "id": "14a3cabb",
   "metadata": {},
   "outputs": [
    {
     "name": "stdout",
     "output_type": "stream",
     "text": [
      "blood: 16992\n",
      "colon: 16870\n",
      "prostate: 16871\n"
     ]
    }
   ],
   "source": [
    "for i in graz_list:\n",
    "    print(i + \": \" + str(len(graz_list[i])))"
   ]
  },
  {
   "cell_type": "markdown",
   "id": "dc73b99c",
   "metadata": {},
   "source": [
    "# Plots"
   ]
  },
  {
   "cell_type": "markdown",
   "id": "0ac3af73",
   "metadata": {},
   "source": [
    "## Gene organizer"
   ]
  },
  {
   "cell_type": "code",
   "execution_count": 45,
   "id": "26023125",
   "metadata": {},
   "outputs": [],
   "source": [
    "for organ in ['blood', 'liver', 'lung', 'breast', 'intestine', 'prostate']:\n",
    "    \n",
    "    file_list_filtered = file_list.copy()\n",
    "    \n",
    "    for file in file_list_filtered: \n",
    "        file_list_filtered[file] = file_list_filtered[file].filter(go_organ_list[organ], axis = 0).predicted\n",
    "        \n",
    "    crosstable = pd.DataFrame(index = file_list_filtered.keys(), columns = file_list_filtered.keys(), dtype=\"float\")\n",
    "\n",
    "    for file1 in file_list_filtered:\n",
    "        for file2 in file_list_filtered: \n",
    "            pvalue = sts.ranksums(file_list_filtered[file1], file_list_filtered[file2])\n",
    "            crosstable.loc[file1,file2] = pvalue[1]\n",
    "            \n",
    "    log_crosstable = -np.log(crosstable) \n",
    "\n",
    "    log_crosstable.index = [x.replace(\"predictions_\",\"\").replace(\".csv\",\"\") for x in list(file_list_filtered.keys())]\n",
    "    log_crosstable.columns = [x.replace(\"predictions_\",\"\").replace(\".csv\",\"\") for x in list(file_list_filtered.keys())]\n",
    "    #display(crosstable)\n",
    "\n",
    "    plot = sns.heatmap(data = log_crosstable, cmap = 'Spectral', cbar_kws={'label': '-log(pvalue)'})\n",
    "    plot = plt.yticks(rotation=0) \n",
    "    plt.title(\"Rank sum test- \" + organ + \" gene set\")\n",
    "    plt.tight_layout()\n",
    "    plt.savefig(\"cfDNA-reanalysis_Graz/kristin/snakemake_diffexp/results/\" + organ + \"_heatmap_goGenes_grazSamples.pdf\", dpi = 90)\n",
    "    plt.close()\n",
    "    \n",
    "    "
   ]
  },
  {
   "cell_type": "markdown",
   "id": "91878fea",
   "metadata": {},
   "source": [
    "## Graz plots"
   ]
  },
  {
   "cell_type": "code",
   "execution_count": 30,
   "id": "1c93fed4",
   "metadata": {},
   "outputs": [
    {
     "data": {
      "text/html": [
       "<div>\n",
       "<style scoped>\n",
       "    .dataframe tbody tr th:only-of-type {\n",
       "        vertical-align: middle;\n",
       "    }\n",
       "\n",
       "    .dataframe tbody tr th {\n",
       "        vertical-align: top;\n",
       "    }\n",
       "\n",
       "    .dataframe thead th {\n",
       "        text-align: right;\n",
       "    }\n",
       "</style>\n",
       "<table border=\"1\" class=\"dataframe\">\n",
       "  <thead>\n",
       "    <tr style=\"text-align: right;\">\n",
       "      <th></th>\n",
       "      <th>predictions_BH01.csv</th>\n",
       "      <th>predictions_IH01.csv</th>\n",
       "      <th>predictions_IH02.csv</th>\n",
       "      <th>predictions_IC15.csv</th>\n",
       "      <th>predictions_IC17.csv</th>\n",
       "      <th>predictions_IC20.csv</th>\n",
       "      <th>predictions_IC35.csv</th>\n",
       "      <th>predictions_IC37.csv</th>\n",
       "    </tr>\n",
       "  </thead>\n",
       "  <tbody>\n",
       "    <tr>\n",
       "      <th>predictions_BH01.csv</th>\n",
       "      <td>1.000000e+00</td>\n",
       "      <td>4.749237e-01</td>\n",
       "      <td>3.289457e-01</td>\n",
       "      <td>0.000135</td>\n",
       "      <td>1.354375e-12</td>\n",
       "      <td>6.647513e-02</td>\n",
       "      <td>1.845124e-09</td>\n",
       "      <td>1.709988e-05</td>\n",
       "    </tr>\n",
       "    <tr>\n",
       "      <th>predictions_IH01.csv</th>\n",
       "      <td>4.749237e-01</td>\n",
       "      <td>1.000000e+00</td>\n",
       "      <td>9.549629e-02</td>\n",
       "      <td>0.001879</td>\n",
       "      <td>2.133846e-10</td>\n",
       "      <td>2.824312e-01</td>\n",
       "      <td>1.065266e-07</td>\n",
       "      <td>3.372884e-04</td>\n",
       "    </tr>\n",
       "    <tr>\n",
       "      <th>predictions_IH02.csv</th>\n",
       "      <td>3.289457e-01</td>\n",
       "      <td>9.549629e-02</td>\n",
       "      <td>1.000000e+00</td>\n",
       "      <td>0.000001</td>\n",
       "      <td>6.456984e-16</td>\n",
       "      <td>4.303114e-03</td>\n",
       "      <td>2.643078e-12</td>\n",
       "      <td>1.075022e-07</td>\n",
       "    </tr>\n",
       "    <tr>\n",
       "      <th>predictions_IC15.csv</th>\n",
       "      <td>1.345382e-04</td>\n",
       "      <td>1.879123e-03</td>\n",
       "      <td>1.357995e-06</td>\n",
       "      <td>1.000000</td>\n",
       "      <td>1.092682e-03</td>\n",
       "      <td>3.817936e-02</td>\n",
       "      <td>2.477469e-02</td>\n",
       "      <td>6.327388e-01</td>\n",
       "    </tr>\n",
       "    <tr>\n",
       "      <th>predictions_IC17.csv</th>\n",
       "      <td>1.354375e-12</td>\n",
       "      <td>2.133846e-10</td>\n",
       "      <td>6.456984e-16</td>\n",
       "      <td>0.001093</td>\n",
       "      <td>1.000000e+00</td>\n",
       "      <td>5.172288e-08</td>\n",
       "      <td>3.430884e-01</td>\n",
       "      <td>5.276277e-03</td>\n",
       "    </tr>\n",
       "    <tr>\n",
       "      <th>predictions_IC20.csv</th>\n",
       "      <td>6.647513e-02</td>\n",
       "      <td>2.824312e-01</td>\n",
       "      <td>4.303114e-03</td>\n",
       "      <td>0.038179</td>\n",
       "      <td>5.172288e-08</td>\n",
       "      <td>1.000000e+00</td>\n",
       "      <td>1.449523e-05</td>\n",
       "      <td>1.047111e-02</td>\n",
       "    </tr>\n",
       "    <tr>\n",
       "      <th>predictions_IC35.csv</th>\n",
       "      <td>1.845124e-09</td>\n",
       "      <td>1.065266e-07</td>\n",
       "      <td>2.643078e-12</td>\n",
       "      <td>0.024775</td>\n",
       "      <td>3.430884e-01</td>\n",
       "      <td>1.449523e-05</td>\n",
       "      <td>1.000000e+00</td>\n",
       "      <td>7.713856e-02</td>\n",
       "    </tr>\n",
       "    <tr>\n",
       "      <th>predictions_IC37.csv</th>\n",
       "      <td>1.709988e-05</td>\n",
       "      <td>3.372884e-04</td>\n",
       "      <td>1.075022e-07</td>\n",
       "      <td>0.632739</td>\n",
       "      <td>5.276277e-03</td>\n",
       "      <td>1.047111e-02</td>\n",
       "      <td>7.713856e-02</td>\n",
       "      <td>1.000000e+00</td>\n",
       "    </tr>\n",
       "  </tbody>\n",
       "</table>\n",
       "</div>"
      ],
      "text/plain": [
       "                      predictions_BH01.csv  predictions_IH01.csv  \\\n",
       "predictions_BH01.csv          1.000000e+00          4.749237e-01   \n",
       "predictions_IH01.csv          4.749237e-01          1.000000e+00   \n",
       "predictions_IH02.csv          3.289457e-01          9.549629e-02   \n",
       "predictions_IC15.csv          1.345382e-04          1.879123e-03   \n",
       "predictions_IC17.csv          1.354375e-12          2.133846e-10   \n",
       "predictions_IC20.csv          6.647513e-02          2.824312e-01   \n",
       "predictions_IC35.csv          1.845124e-09          1.065266e-07   \n",
       "predictions_IC37.csv          1.709988e-05          3.372884e-04   \n",
       "\n",
       "                      predictions_IH02.csv  predictions_IC15.csv  \\\n",
       "predictions_BH01.csv          3.289457e-01              0.000135   \n",
       "predictions_IH01.csv          9.549629e-02              0.001879   \n",
       "predictions_IH02.csv          1.000000e+00              0.000001   \n",
       "predictions_IC15.csv          1.357995e-06              1.000000   \n",
       "predictions_IC17.csv          6.456984e-16              0.001093   \n",
       "predictions_IC20.csv          4.303114e-03              0.038179   \n",
       "predictions_IC35.csv          2.643078e-12              0.024775   \n",
       "predictions_IC37.csv          1.075022e-07              0.632739   \n",
       "\n",
       "                      predictions_IC17.csv  predictions_IC20.csv  \\\n",
       "predictions_BH01.csv          1.354375e-12          6.647513e-02   \n",
       "predictions_IH01.csv          2.133846e-10          2.824312e-01   \n",
       "predictions_IH02.csv          6.456984e-16          4.303114e-03   \n",
       "predictions_IC15.csv          1.092682e-03          3.817936e-02   \n",
       "predictions_IC17.csv          1.000000e+00          5.172288e-08   \n",
       "predictions_IC20.csv          5.172288e-08          1.000000e+00   \n",
       "predictions_IC35.csv          3.430884e-01          1.449523e-05   \n",
       "predictions_IC37.csv          5.276277e-03          1.047111e-02   \n",
       "\n",
       "                      predictions_IC35.csv  predictions_IC37.csv  \n",
       "predictions_BH01.csv          1.845124e-09          1.709988e-05  \n",
       "predictions_IH01.csv          1.065266e-07          3.372884e-04  \n",
       "predictions_IH02.csv          2.643078e-12          1.075022e-07  \n",
       "predictions_IC15.csv          2.477469e-02          6.327388e-01  \n",
       "predictions_IC17.csv          3.430884e-01          5.276277e-03  \n",
       "predictions_IC20.csv          1.449523e-05          1.047111e-02  \n",
       "predictions_IC35.csv          1.000000e+00          7.713856e-02  \n",
       "predictions_IC37.csv          7.713856e-02          1.000000e+00  "
      ]
     },
     "metadata": {},
     "output_type": "display_data"
    },
    {
     "data": {
      "text/html": [
       "<div>\n",
       "<style scoped>\n",
       "    .dataframe tbody tr th:only-of-type {\n",
       "        vertical-align: middle;\n",
       "    }\n",
       "\n",
       "    .dataframe tbody tr th {\n",
       "        vertical-align: top;\n",
       "    }\n",
       "\n",
       "    .dataframe thead th {\n",
       "        text-align: right;\n",
       "    }\n",
       "</style>\n",
       "<table border=\"1\" class=\"dataframe\">\n",
       "  <thead>\n",
       "    <tr style=\"text-align: right;\">\n",
       "      <th></th>\n",
       "      <th>predictions_BH01.csv</th>\n",
       "      <th>predictions_IH01.csv</th>\n",
       "      <th>predictions_IH02.csv</th>\n",
       "      <th>predictions_IC15.csv</th>\n",
       "      <th>predictions_IC17.csv</th>\n",
       "      <th>predictions_IC20.csv</th>\n",
       "      <th>predictions_IC35.csv</th>\n",
       "      <th>predictions_IC37.csv</th>\n",
       "    </tr>\n",
       "  </thead>\n",
       "  <tbody>\n",
       "    <tr>\n",
       "      <th>predictions_BH01.csv</th>\n",
       "      <td>1.000000e+00</td>\n",
       "      <td>4.688068e-01</td>\n",
       "      <td>3.252120e-01</td>\n",
       "      <td>0.000135</td>\n",
       "      <td>1.292201e-12</td>\n",
       "      <td>6.443031e-02</td>\n",
       "      <td>1.866556e-09</td>\n",
       "      <td>1.686650e-05</td>\n",
       "    </tr>\n",
       "    <tr>\n",
       "      <th>predictions_IH01.csv</th>\n",
       "      <td>4.688068e-01</td>\n",
       "      <td>1.000000e+00</td>\n",
       "      <td>9.200188e-02</td>\n",
       "      <td>0.001954</td>\n",
       "      <td>2.194010e-10</td>\n",
       "      <td>2.803111e-01</td>\n",
       "      <td>1.141207e-07</td>\n",
       "      <td>3.468447e-04</td>\n",
       "    </tr>\n",
       "    <tr>\n",
       "      <th>predictions_IH02.csv</th>\n",
       "      <td>3.252120e-01</td>\n",
       "      <td>9.200188e-02</td>\n",
       "      <td>1.000000e+00</td>\n",
       "      <td>0.000001</td>\n",
       "      <td>5.742904e-16</td>\n",
       "      <td>4.020539e-03</td>\n",
       "      <td>2.549148e-12</td>\n",
       "      <td>1.014067e-07</td>\n",
       "    </tr>\n",
       "    <tr>\n",
       "      <th>predictions_IC15.csv</th>\n",
       "      <td>1.350506e-04</td>\n",
       "      <td>1.953782e-03</td>\n",
       "      <td>1.312810e-06</td>\n",
       "      <td>1.000000</td>\n",
       "      <td>1.063030e-03</td>\n",
       "      <td>3.964655e-02</td>\n",
       "      <td>2.485319e-02</td>\n",
       "      <td>6.295671e-01</td>\n",
       "    </tr>\n",
       "    <tr>\n",
       "      <th>predictions_IC17.csv</th>\n",
       "      <td>1.292201e-12</td>\n",
       "      <td>2.194010e-10</td>\n",
       "      <td>5.742904e-16</td>\n",
       "      <td>0.001063</td>\n",
       "      <td>1.000000e+00</td>\n",
       "      <td>5.416246e-08</td>\n",
       "      <td>3.392395e-01</td>\n",
       "      <td>5.221251e-03</td>\n",
       "    </tr>\n",
       "    <tr>\n",
       "      <th>predictions_IC20.csv</th>\n",
       "      <td>6.443031e-02</td>\n",
       "      <td>2.803111e-01</td>\n",
       "      <td>4.020539e-03</td>\n",
       "      <td>0.039647</td>\n",
       "      <td>5.416246e-08</td>\n",
       "      <td>1.000000e+00</td>\n",
       "      <td>1.558396e-05</td>\n",
       "      <td>1.081429e-02</td>\n",
       "    </tr>\n",
       "    <tr>\n",
       "      <th>predictions_IC35.csv</th>\n",
       "      <td>1.866556e-09</td>\n",
       "      <td>1.141207e-07</td>\n",
       "      <td>2.549148e-12</td>\n",
       "      <td>0.024853</td>\n",
       "      <td>3.392395e-01</td>\n",
       "      <td>1.558396e-05</td>\n",
       "      <td>1.000000e+00</td>\n",
       "      <td>7.804947e-02</td>\n",
       "    </tr>\n",
       "    <tr>\n",
       "      <th>predictions_IC37.csv</th>\n",
       "      <td>1.686650e-05</td>\n",
       "      <td>3.468447e-04</td>\n",
       "      <td>1.014067e-07</td>\n",
       "      <td>0.629567</td>\n",
       "      <td>5.221251e-03</td>\n",
       "      <td>1.081429e-02</td>\n",
       "      <td>7.804947e-02</td>\n",
       "      <td>1.000000e+00</td>\n",
       "    </tr>\n",
       "  </tbody>\n",
       "</table>\n",
       "</div>"
      ],
      "text/plain": [
       "                      predictions_BH01.csv  predictions_IH01.csv  \\\n",
       "predictions_BH01.csv          1.000000e+00          4.688068e-01   \n",
       "predictions_IH01.csv          4.688068e-01          1.000000e+00   \n",
       "predictions_IH02.csv          3.252120e-01          9.200188e-02   \n",
       "predictions_IC15.csv          1.350506e-04          1.953782e-03   \n",
       "predictions_IC17.csv          1.292201e-12          2.194010e-10   \n",
       "predictions_IC20.csv          6.443031e-02          2.803111e-01   \n",
       "predictions_IC35.csv          1.866556e-09          1.141207e-07   \n",
       "predictions_IC37.csv          1.686650e-05          3.468447e-04   \n",
       "\n",
       "                      predictions_IH02.csv  predictions_IC15.csv  \\\n",
       "predictions_BH01.csv          3.252120e-01              0.000135   \n",
       "predictions_IH01.csv          9.200188e-02              0.001954   \n",
       "predictions_IH02.csv          1.000000e+00              0.000001   \n",
       "predictions_IC15.csv          1.312810e-06              1.000000   \n",
       "predictions_IC17.csv          5.742904e-16              0.001063   \n",
       "predictions_IC20.csv          4.020539e-03              0.039647   \n",
       "predictions_IC35.csv          2.549148e-12              0.024853   \n",
       "predictions_IC37.csv          1.014067e-07              0.629567   \n",
       "\n",
       "                      predictions_IC17.csv  predictions_IC20.csv  \\\n",
       "predictions_BH01.csv          1.292201e-12          6.443031e-02   \n",
       "predictions_IH01.csv          2.194010e-10          2.803111e-01   \n",
       "predictions_IH02.csv          5.742904e-16          4.020539e-03   \n",
       "predictions_IC15.csv          1.063030e-03          3.964655e-02   \n",
       "predictions_IC17.csv          1.000000e+00          5.416246e-08   \n",
       "predictions_IC20.csv          5.416246e-08          1.000000e+00   \n",
       "predictions_IC35.csv          3.392395e-01          1.558396e-05   \n",
       "predictions_IC37.csv          5.221251e-03          1.081429e-02   \n",
       "\n",
       "                      predictions_IC35.csv  predictions_IC37.csv  \n",
       "predictions_BH01.csv          1.866556e-09          1.686650e-05  \n",
       "predictions_IH01.csv          1.141207e-07          3.468447e-04  \n",
       "predictions_IH02.csv          2.549148e-12          1.014067e-07  \n",
       "predictions_IC15.csv          2.485319e-02          6.295671e-01  \n",
       "predictions_IC17.csv          3.392395e-01          5.221251e-03  \n",
       "predictions_IC20.csv          1.558396e-05          1.081429e-02  \n",
       "predictions_IC35.csv          1.000000e+00          7.804947e-02  \n",
       "predictions_IC37.csv          7.804947e-02          1.000000e+00  "
      ]
     },
     "metadata": {},
     "output_type": "display_data"
    },
    {
     "data": {
      "text/html": [
       "<div>\n",
       "<style scoped>\n",
       "    .dataframe tbody tr th:only-of-type {\n",
       "        vertical-align: middle;\n",
       "    }\n",
       "\n",
       "    .dataframe tbody tr th {\n",
       "        vertical-align: top;\n",
       "    }\n",
       "\n",
       "    .dataframe thead th {\n",
       "        text-align: right;\n",
       "    }\n",
       "</style>\n",
       "<table border=\"1\" class=\"dataframe\">\n",
       "  <thead>\n",
       "    <tr style=\"text-align: right;\">\n",
       "      <th></th>\n",
       "      <th>predictions_BH01.csv</th>\n",
       "      <th>predictions_IH01.csv</th>\n",
       "      <th>predictions_IH02.csv</th>\n",
       "      <th>predictions_IC15.csv</th>\n",
       "      <th>predictions_IC17.csv</th>\n",
       "      <th>predictions_IC20.csv</th>\n",
       "      <th>predictions_IC35.csv</th>\n",
       "      <th>predictions_IC37.csv</th>\n",
       "    </tr>\n",
       "  </thead>\n",
       "  <tbody>\n",
       "    <tr>\n",
       "      <th>predictions_BH01.csv</th>\n",
       "      <td>1.000000e+00</td>\n",
       "      <td>4.756537e-01</td>\n",
       "      <td>3.275914e-01</td>\n",
       "      <td>0.000136</td>\n",
       "      <td>1.360165e-12</td>\n",
       "      <td>6.712766e-02</td>\n",
       "      <td>1.826681e-09</td>\n",
       "      <td>1.707906e-05</td>\n",
       "    </tr>\n",
       "    <tr>\n",
       "      <th>predictions_IH01.csv</th>\n",
       "      <td>4.756537e-01</td>\n",
       "      <td>1.000000e+00</td>\n",
       "      <td>9.524612e-02</td>\n",
       "      <td>0.001886</td>\n",
       "      <td>2.127444e-10</td>\n",
       "      <td>2.839671e-01</td>\n",
       "      <td>1.048548e-07</td>\n",
       "      <td>3.354352e-04</td>\n",
       "    </tr>\n",
       "    <tr>\n",
       "      <th>predictions_IH02.csv</th>\n",
       "      <td>3.275914e-01</td>\n",
       "      <td>9.524612e-02</td>\n",
       "      <td>1.000000e+00</td>\n",
       "      <td>0.000001</td>\n",
       "      <td>6.403991e-16</td>\n",
       "      <td>4.333862e-03</td>\n",
       "      <td>2.578859e-12</td>\n",
       "      <td>1.058955e-07</td>\n",
       "    </tr>\n",
       "    <tr>\n",
       "      <th>predictions_IC15.csv</th>\n",
       "      <td>1.355874e-04</td>\n",
       "      <td>1.885535e-03</td>\n",
       "      <td>1.354607e-06</td>\n",
       "      <td>1.000000</td>\n",
       "      <td>1.089217e-03</td>\n",
       "      <td>3.791921e-02</td>\n",
       "      <td>2.453628e-02</td>\n",
       "      <td>6.312003e-01</td>\n",
       "    </tr>\n",
       "    <tr>\n",
       "      <th>predictions_IC17.csv</th>\n",
       "      <td>1.360165e-12</td>\n",
       "      <td>2.127444e-10</td>\n",
       "      <td>6.403991e-16</td>\n",
       "      <td>0.001089</td>\n",
       "      <td>1.000000e+00</td>\n",
       "      <td>5.066828e-08</td>\n",
       "      <td>3.448010e-01</td>\n",
       "      <td>5.296632e-03</td>\n",
       "    </tr>\n",
       "    <tr>\n",
       "      <th>predictions_IC20.csv</th>\n",
       "      <td>6.712766e-02</td>\n",
       "      <td>2.839671e-01</td>\n",
       "      <td>4.333862e-03</td>\n",
       "      <td>0.037919</td>\n",
       "      <td>5.066828e-08</td>\n",
       "      <td>1.000000e+00</td>\n",
       "      <td>1.406498e-05</td>\n",
       "      <td>1.032346e-02</td>\n",
       "    </tr>\n",
       "    <tr>\n",
       "      <th>predictions_IC35.csv</th>\n",
       "      <td>1.826681e-09</td>\n",
       "      <td>1.048548e-07</td>\n",
       "      <td>2.578859e-12</td>\n",
       "      <td>0.024536</td>\n",
       "      <td>3.448010e-01</td>\n",
       "      <td>1.406498e-05</td>\n",
       "      <td>1.000000e+00</td>\n",
       "      <td>7.688021e-02</td>\n",
       "    </tr>\n",
       "    <tr>\n",
       "      <th>predictions_IC37.csv</th>\n",
       "      <td>1.707906e-05</td>\n",
       "      <td>3.354352e-04</td>\n",
       "      <td>1.058955e-07</td>\n",
       "      <td>0.631200</td>\n",
       "      <td>5.296632e-03</td>\n",
       "      <td>1.032346e-02</td>\n",
       "      <td>7.688021e-02</td>\n",
       "      <td>1.000000e+00</td>\n",
       "    </tr>\n",
       "  </tbody>\n",
       "</table>\n",
       "</div>"
      ],
      "text/plain": [
       "                      predictions_BH01.csv  predictions_IH01.csv  \\\n",
       "predictions_BH01.csv          1.000000e+00          4.756537e-01   \n",
       "predictions_IH01.csv          4.756537e-01          1.000000e+00   \n",
       "predictions_IH02.csv          3.275914e-01          9.524612e-02   \n",
       "predictions_IC15.csv          1.355874e-04          1.885535e-03   \n",
       "predictions_IC17.csv          1.360165e-12          2.127444e-10   \n",
       "predictions_IC20.csv          6.712766e-02          2.839671e-01   \n",
       "predictions_IC35.csv          1.826681e-09          1.048548e-07   \n",
       "predictions_IC37.csv          1.707906e-05          3.354352e-04   \n",
       "\n",
       "                      predictions_IH02.csv  predictions_IC15.csv  \\\n",
       "predictions_BH01.csv          3.275914e-01              0.000136   \n",
       "predictions_IH01.csv          9.524612e-02              0.001886   \n",
       "predictions_IH02.csv          1.000000e+00              0.000001   \n",
       "predictions_IC15.csv          1.354607e-06              1.000000   \n",
       "predictions_IC17.csv          6.403991e-16              0.001089   \n",
       "predictions_IC20.csv          4.333862e-03              0.037919   \n",
       "predictions_IC35.csv          2.578859e-12              0.024536   \n",
       "predictions_IC37.csv          1.058955e-07              0.631200   \n",
       "\n",
       "                      predictions_IC17.csv  predictions_IC20.csv  \\\n",
       "predictions_BH01.csv          1.360165e-12          6.712766e-02   \n",
       "predictions_IH01.csv          2.127444e-10          2.839671e-01   \n",
       "predictions_IH02.csv          6.403991e-16          4.333862e-03   \n",
       "predictions_IC15.csv          1.089217e-03          3.791921e-02   \n",
       "predictions_IC17.csv          1.000000e+00          5.066828e-08   \n",
       "predictions_IC20.csv          5.066828e-08          1.000000e+00   \n",
       "predictions_IC35.csv          3.448010e-01          1.406498e-05   \n",
       "predictions_IC37.csv          5.296632e-03          1.032346e-02   \n",
       "\n",
       "                      predictions_IC35.csv  predictions_IC37.csv  \n",
       "predictions_BH01.csv          1.826681e-09          1.707906e-05  \n",
       "predictions_IH01.csv          1.048548e-07          3.354352e-04  \n",
       "predictions_IH02.csv          2.578859e-12          1.058955e-07  \n",
       "predictions_IC15.csv          2.453628e-02          6.312003e-01  \n",
       "predictions_IC17.csv          3.448010e-01          5.296632e-03  \n",
       "predictions_IC20.csv          1.406498e-05          1.032346e-02  \n",
       "predictions_IC35.csv          1.000000e+00          7.688021e-02  \n",
       "predictions_IC37.csv          7.688021e-02          1.000000e+00  "
      ]
     },
     "metadata": {},
     "output_type": "display_data"
    }
   ],
   "source": [
    "for organ in ['blood', 'colon', 'prostate']:\n",
    "    \n",
    "    file_list_filtered = file_list.copy()\n",
    "    \n",
    "    for file in file_list_filtered: \n",
    "        file_list_filtered[file] = file_list_filtered[file].filter(graz_list[organ], axis = 0).predicted\n",
    "        \n",
    "    crosstable = pd.DataFrame(index = file_list_filtered.keys(), columns = file_list_filtered.keys(), dtype=\"float\")\n",
    "\n",
    "    for file1 in file_list_filtered:\n",
    "        for file2 in file_list_filtered: \n",
    "            pvalue = sts.ranksums(file_list_filtered[file1], file_list_filtered[file2])\n",
    "            crosstable.loc[file1,file2] = pvalue[1]\n",
    "            \n",
    "    log_crosstable = -np.log(crosstable) \n",
    "\n",
    "    log_crosstable.index = [x.replace(\"predictions_\",\"\").replace(\".csv\",\"\") for x in list(file_list_filtered.keys())]\n",
    "    log_crosstable.columns = [x.replace(\"predictions_\",\"\").replace(\".csv\",\"\") for x in list(file_list_filtered.keys())]\n",
    "    display(crosstable)\n",
    "\n",
    "    plot = sns.heatmap(data = log_crosstable, cmap = 'Spectral', cbar_kws={'label': '-log(pvalue)'})\n",
    "    plot = plt.yticks(rotation=0) \n",
    "    plt.title(\"Rank sum test- \" + organ + \" gene set\")\n",
    "    plt.tight_layout()\n",
    "    plt.savefig(\"cfDNA-reanalysis_Graz/kristin/snakemake_diffexp/results/\" + organ + \"_heatmap_grazGenes_cellSamples.pdf\", dpi = 90)\n",
    "    plt.close()\n",
    "    \n",
    "    "
   ]
  }
 ],
 "metadata": {
  "kernelspec": {
   "display_name": "Python 3",
   "language": "python",
   "name": "python3"
  },
  "language_info": {
   "codemirror_mode": {
    "name": "ipython",
    "version": 3
   },
   "file_extension": ".py",
   "mimetype": "text/x-python",
   "name": "python",
   "nbconvert_exporter": "python",
   "pygments_lexer": "ipython3",
   "version": "3.9.2"
  },
  "toc": {
   "base_numbering": 1,
   "nav_menu": {},
   "number_sections": true,
   "sideBar": true,
   "skip_h1_title": false,
   "title_cell": "Table of Contents",
   "title_sidebar": "Contents",
   "toc_cell": false,
   "toc_position": {},
   "toc_section_display": true,
   "toc_window_display": false
  },
  "varInspector": {
   "cols": {
    "lenName": 16,
    "lenType": 16,
    "lenVar": 40
   },
   "kernels_config": {
    "python": {
     "delete_cmd_postfix": "",
     "delete_cmd_prefix": "del ",
     "library": "var_list.py",
     "varRefreshCmd": "print(var_dic_list())"
    },
    "r": {
     "delete_cmd_postfix": ") ",
     "delete_cmd_prefix": "rm(",
     "library": "var_list.r",
     "varRefreshCmd": "cat(var_dic_list()) "
    }
   },
   "types_to_exclude": [
    "module",
    "function",
    "builtin_function_or_method",
    "instance",
    "_Feature"
   ],
   "window_display": false
  }
 },
 "nbformat": 4,
 "nbformat_minor": 5
}
