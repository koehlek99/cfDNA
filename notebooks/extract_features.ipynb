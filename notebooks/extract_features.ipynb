{
 "cells": [
  {
   "cell_type": "code",
   "execution_count": 1,
   "id": "d1ecfecf",
   "metadata": {
    "scrolled": true
   },
   "outputs": [
    {
     "name": "stdout",
     "output_type": "stream",
     "text": [
      "/fast/home/groups/ag_kircher\n"
     ]
    }
   ],
   "source": [
    "import gzip \n",
    "import pandas as pd\n",
    "import numpy as np\n",
    "import matplotlib.pyplot as plt\n",
    "import scipy.signal as sps\n",
    "\n",
    "%cd \"/data/groups/ag_kircher/\"\n"
   ]
  },
  {
   "cell_type": "code",
   "execution_count": 2,
   "id": "af76029d",
   "metadata": {},
   "outputs": [],
   "source": [
    "sample = 'IH01'"
   ]
  },
  {
   "cell_type": "markdown",
   "id": "d0ae5329",
   "metadata": {},
   "source": [
    "# Load fft, coverage, wps data "
   ]
  },
  {
   "cell_type": "code",
   "execution_count": 10,
   "id": "41d26ff0",
   "metadata": {
    "code_folding": []
   },
   "outputs": [],
   "source": [
    "##load fft summary\n",
    "fft = pd.read_csv(\"cfDNA-reanalysis_Graz/kristin/rf_model/%s/fft_normalised.tsv\" %sample, header = 0, sep = \"\\t\", index_col = 0) \n",
    "#fft = fft[['205','202','199','196','193','190','187','185','182','180','177','175','173','170','168','166']]\n",
    "\n",
    "##load coverage -1kb to 1kb around TSS\n",
    "coverage = pd.read_csv(\"cfDNA-reanalysis_Graz/kristin/rf_model/%s/cov_normalised.tsv\" %sample, sep = '\\t', header = None, index_col = 0)\n",
    "\n",
    "##load wps -1kb to 1kb around TSS\n",
    "wps = pd.read_csv(\"cfDNA-reanalysis_Graz/kristin/rf_model/%s/wps_normalised.tsv\" %sample, sep = '\\t',header = None, index_col = 0)\n"
   ]
  },
  {
   "cell_type": "markdown",
   "id": "0d2fac17",
   "metadata": {},
   "source": [
    "# Load and filter expression data "
   ]
  },
  {
   "cell_type": "code",
   "execution_count": 4,
   "id": "4e517364",
   "metadata": {
    "scrolled": false
   },
   "outputs": [],
   "source": [
    "##load monocyte expression data \n",
    "expressionData = pd.read_csv(\"cfDNA-reanalysis_Graz/kristin/cfDNA/resources/protein_atlas/RNAtableExtended.tsv.gz\", index_col = 0 ,compression = \"gzip\", header = 0, sep = \"\\t\")\n",
    "expressionMonocyte = expressionData[['monocytes']]\n"
   ]
  },
  {
   "cell_type": "code",
   "execution_count": 5,
   "id": "cabc75ac",
   "metadata": {
    "scrolled": true
   },
   "outputs": [],
   "source": [
    "##load genes with high IQR \n",
    "genesHighIqr = pd.read_csv(\"cfDNA-reanalysis_Graz/kristin/GenesHighIQR.tsv\", header = 0, sep = \"\\t\")\n",
    "genesHighIqr.index = genesHighIqr[\"GeneID\"]\n",
    "genesHighIqr = genesHighIqr.drop(\"GeneID\", axis = 1)"
   ]
  },
  {
   "cell_type": "code",
   "execution_count": 6,
   "id": "32087265",
   "metadata": {
    "scrolled": true
   },
   "outputs": [],
   "source": [
    "#log transform expression values\n",
    "LogExpressionMonocyte = expressionMonocyte.copy()\n",
    "LogExpressionMonocyte['monocytes'] = np.log2(LogExpressionMonocyte['monocytes'] + 1)"
   ]
  },
  {
   "cell_type": "code",
   "execution_count": 7,
   "id": "8bb8c1ea",
   "metadata": {},
   "outputs": [],
   "source": [
    "import matplotlib.pyplot as plt\n",
    "\n",
    "\n",
    "Expressed = LogExpressionMonocyte[(LogExpressionMonocyte.monocytes > 0.75)]\n",
    "NotExpressed = LogExpressionMonocyte[(LogExpressionMonocyte.monocytes <= 0.75)].sample(frac = 0.2, random_state = 1)\n",
    "\n",
    "LogExpressionFiltered = Expressed.append(NotExpressed)\n"
   ]
  },
  {
   "cell_type": "markdown",
   "id": "3e747c83",
   "metadata": {},
   "source": [
    "# Merge datasets by gene ids "
   ]
  },
  {
   "cell_type": "code",
   "execution_count": 8,
   "id": "941c0eb0",
   "metadata": {},
   "outputs": [],
   "source": [
    "union = LogExpressionFiltered.index.intersection(genesHighIqr.index).intersection(fft.index)\n"
   ]
  },
  {
   "cell_type": "code",
   "execution_count": 11,
   "id": "e2e1bbcf",
   "metadata": {},
   "outputs": [],
   "source": [
    "##filter high iqr genes ids \n",
    "\n",
    "LogExpressionFilteredIQR = LogExpressionFiltered.loc[union]\n",
    "\n",
    "fft = fft.loc[union]\n",
    "coverage = coverage.loc[union]\n",
    "wps = wps.loc[union]\n"
   ]
  },
  {
   "cell_type": "code",
   "execution_count": 12,
   "id": "897fa056",
   "metadata": {
    "scrolled": true
   },
   "outputs": [
    {
     "data": {
      "image/png": "[encoded data removed]",
      "text/plain": [
       "<Figure size 432x288 with 1 Axes>"
      ]
     },
     "metadata": {
      "needs_background": "light"
     },
     "output_type": "display_data"
    }
   ],
   "source": [
    "plt.hist(LogExpressionMonocyte, alpha = 0.5, bins = 50, label = \"all\")\n",
    "plt.hist(LogExpressionFiltered['monocytes'], alpha = 0.5, bins = 50, label = \"subsample: expression > 0.75\")\n",
    "plt.hist(LogExpressionFilteredIQR['monocytes'], alpha = 0.5, bins = 50, label = \"IQR > 1.5\")\n",
    "plt.legend(loc='upper right')\n",
    "plt.show()"
   ]
  },
  {
   "cell_type": "markdown",
   "id": "f3d76c69",
   "metadata": {},
   "source": [
    "# Calculate features"
   ]
  },
  {
   "cell_type": "markdown",
   "id": "1ff04a39",
   "metadata": {},
   "source": [
    "## Mean, median, variance"
   ]
  },
  {
   "cell_type": "code",
   "execution_count": null,
   "id": "79ee83a0",
   "metadata": {
    "scrolled": true
   },
   "outputs": [],
   "source": [
    "##generate dataframe with features\n",
    "\n",
    "features = fft.copy()\n",
    "\n",
    "features['mean_cov_body1kb'] = coverage.loc[:,1000:2000].mean(axis = 1)\n",
    "features['median_cov_body1kb'] = coverage.loc[:,1000:2000].median(axis = 1)\n",
    "features['var_cov_body1kb'] = coverage.loc[:,1000:2000].var(axis = 1)\n",
    "features['mean_cov_upstream1kb'] = coverage.loc[:,0:1000].mean(axis = 1)\n",
    "features['median_cov_upstream1kb'] = coverage.loc[:,0:1000].median(axis = 1)\n",
    "features['var_cov_upstream1kb'] = coverage.loc[:,0:1000].var(axis = 1)\n",
    "\n",
    "features['variance_cov_2k'] = coverage.loc[:,0:2000].var(axis = 1)\n",
    "features['mean_cov_2k'] = coverage.loc[:,0:2000].mean(axis = 1)\n",
    "features['median_cov_2k'] = coverage.loc[:,0:2000].median(axis = 1)\n",
    "\n",
    "features['mean_wps_body1kb'] = wps.loc[:,1000:2000].mean(axis = 1)\n",
    "features['median_wps_body1kb'] = wps.loc[:,1000:2000].median(axis = 1)\n",
    "features['var_wps_body1kb'] = wps.loc[:,1000:2000].var(axis = 1)\n",
    "\n",
    "features['mean_wps_upstream1kb'] = wps.loc[:,0:1000].mean(axis = 1)\n",
    "features['median_wps_upstream1kb'] = wps.loc[:,0:1000].median(axis = 1)\n",
    "features['var_wps_upstream1kb'] = wps.loc[:,0:1000].var(axis = 1)\n",
    "\n",
    "features['variance_wps_2k'] = wps.loc[:,0:2000].var(axis = 1)\n",
    "features['mean_wps_2k'] = wps.loc[:,0:2000].mean(axis = 1)\n",
    "features['median_wps_2k'] = wps.loc[:,0:2000].median(axis = 1)\n"
   ]
  },
  {
   "cell_type": "markdown",
   "id": "5bce1685",
   "metadata": {},
   "source": [
    "## Amplitudes, ndr width "
   ]
  },
  {
   "cell_type": "code",
   "execution_count": 191,
   "id": "adda00cb",
   "metadata": {},
   "outputs": [],
   "source": [
    "wps_2k_smoothed = wps.copy()\n",
    "\n",
    "for gene in wps_2k_smoothed.index: \n",
    "    wps_2k_smoothed.loc[gene] = sps.savgol_filter(wps_2k.loc[gene], window_length = 65, polyorder = 3)"
   ]
  },
  {
   "cell_type": "code",
   "execution_count": 192,
   "id": "6d06aac2",
   "metadata": {},
   "outputs": [],
   "source": [
    "wps_2k_smoothed.to_csv('cfDNA-reanalysis_Graz/kristin/rf_model/%s/table_WPS_2k_smoothed.csv' %sample, sep = '\\t', header = True)"
   ]
  },
  {
   "cell_type": "code",
   "execution_count": null,
   "id": "e1da697e",
   "metadata": {},
   "outputs": [],
   "source": [
    "wps_2k_smoothed = pd.read_csv(\"cfDNA-reanalysis_Graz/kristin/rf_model/%s/table_WPS_2k_smoothed.csv\" %sample, sep = \"\\t\", index_col = 0, header = 0) "
   ]
  },
  {
   "cell_type": "code",
   "execution_count": null,
   "id": "f4633a52",
   "metadata": {},
   "outputs": [],
   "source": [
    "wps_2k_smoothed.columns = list(range(1,2002))"
   ]
  },
  {
   "cell_type": "code",
   "execution_count": null,
   "id": "0b9975a2",
   "metadata": {},
   "outputs": [],
   "source": [
    "features['amp1'] = 0\n",
    "features['amp2'] = 0 \n",
    "features['ndr_width1'] = 0\n",
    "features['ndr_width2'] = 0 "
   ]
  },
  {
   "cell_type": "code",
   "execution_count": null,
   "id": "5dff0345",
   "metadata": {},
   "outputs": [],
   "source": [
    "import numpy as np\n",
    "import math\n",
    "\n",
    "for gene in wps_2k_smoothed.index:\n",
    "    \n",
    "    ##calculate amplitudes\n",
    "    row = wps_2k_smoothed.loc[gene,1000:2000]\n",
    "\n",
    "    maxima = np.array(sps.argrelextrema(np.array(row), comparator = np.greater, order = 50)).flatten()\n",
    "    minima = np.array(sps.argrelextrema(np.array(row), comparator = np.less, order = 50)).flatten()\n",
    " \n",
    "    amp1 = max(row.iloc[maxima[0]] - row.iloc[minima[0]], row.iloc[minima[0]] - row.iloc[maxima[0]])\n",
    "    amp2 = max(row.iloc[maxima[1]] - row.iloc[minima[1]], row.iloc[minima[1]] - row.iloc[maxima[1]])\n",
    "    \n",
    "    features.loc[gene,'amp1'] = amp1\n",
    "    features.loc[gene,'amp2'] = amp2\n",
    "    \n",
    "    ##calculate peak distances \n",
    "    row = wps_2k_smoothed.loc[gene,]\n",
    "    \n",
    "    max_peaks = np.array(sps.argrelextrema(np.array(row), comparator = np.greater, order = 50)).flatten()\n",
    "    peak1_upstream = max(list(filter(lambda x: x < 1000, max_peaks)))\n",
    "    peak1_body = min(list(filter(lambda x: x > 1000, max_peaks)))\n",
    "    peak2_body = list(filter(lambda x: x > 1000, max_peaks))[1]\n",
    "\n",
    "    features.loc[gene, 'ndr_width1'] = int(peak1_body) - int(peak1_upstream)\n",
    "    features.loc[gene, 'ndr_width2'] = int(peak2_body) - int(peak1_upstream)"
   ]
  },
  {
   "cell_type": "markdown",
   "id": "9c069473",
   "metadata": {},
   "source": [
    "# Save features "
   ]
  },
  {
   "cell_type": "code",
   "execution_count": 62,
   "id": "f2eda301",
   "metadata": {
    "scrolled": true
   },
   "outputs": [],
   "source": [
    "features['monocytes'] = LogExpressionFilteredIQR"
   ]
  },
  {
   "cell_type": "code",
   "execution_count": 65,
   "id": "5481bd06",
   "metadata": {},
   "outputs": [],
   "source": [
    "features.to_csv('cfDNA-reanalysis_Graz/kristin/rf_model/%s/features.csv' %sample, sep = '\\t', header = True)"
   ]
  }
 ],
 "metadata": {
  "kernelspec": {
   "display_name": "Python 3",
   "language": "python",
   "name": "python3"
  },
  "language_info": {
   "codemirror_mode": {
    "name": "ipython",
    "version": 3
   },
   "file_extension": ".py",
   "mimetype": "text/x-python",
   "name": "python",
   "nbconvert_exporter": "python",
   "pygments_lexer": "ipython3",
   "version": "3.9.2"
  },
  "toc": {
   "base_numbering": 1,
   "nav_menu": {},
   "number_sections": true,
   "sideBar": true,
   "skip_h1_title": false,
   "title_cell": "Table of Contents",
   "title_sidebar": "Contents",
   "toc_cell": false,
   "toc_position": {},
   "toc_section_display": true,
   "toc_window_display": false
  },
  "varInspector": {
   "cols": {
    "lenName": 16,
    "lenType": 16,
    "lenVar": 40
   },
   "kernels_config": {
    "python": {
     "delete_cmd_postfix": "",
     "delete_cmd_prefix": "del ",
     "library": "var_list.py",
     "varRefreshCmd": "print(var_dic_list())"
    },
    "r": {
     "delete_cmd_postfix": ") ",
     "delete_cmd_prefix": "rm(",
     "library": "var_list.r",
     "varRefreshCmd": "cat(var_dic_list()) "
    }
   },
   "types_to_exclude": [
    "module",
    "function",
    "builtin_function_or_method",
    "instance",
    "_Feature"
   ],
   "window_display": false
  }
 },
 "nbformat": 4,
 "nbformat_minor": 5
}
