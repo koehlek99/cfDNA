{
 "cells": [
  {
   "cell_type": "markdown",
   "id": "c68eab2e",
   "metadata": {},
   "source": [
    "# Import packages, load features "
   ]
  },
  {
   "cell_type": "code",
   "execution_count": 1,
   "id": "680ed3db",
   "metadata": {
    "scrolled": false
   },
   "outputs": [
    {
     "name": "stdout",
     "output_type": "stream",
     "text": [
      "/fast/home/groups/ag_kircher\n"
     ]
    }
   ],
   "source": [
    "import pandas as pd\n",
    "import numpy as np\n",
    "import matplotlib.pyplot as plt\n",
    "\n",
    "%cd \"/data/groups/ag_kircher/\"\n",
    "features_IH01 = pd.read_csv(\"cfDNA-reanalysis_Graz/kristin/rf_model/IH01/features.csv\", sep = \"\\t\", index_col = 0, header = 0)\n",
    "features_IC17 = pd.read_csv(\"cfDNA-reanalysis_Graz/kristin/rf_model/IC17/features.csv\", sep = \"\\t\", index_col = 0, header = 0) "
   ]
  },
  {
   "cell_type": "markdown",
   "id": "19e2b4ba",
   "metadata": {},
   "source": [
    "# Split into trainings and test set  "
   ]
  },
  {
   "cell_type": "code",
   "execution_count": 2,
   "id": "96efabad",
   "metadata": {
    "scrolled": true
   },
   "outputs": [
    {
     "data": {
      "text/plain": [
       "(8457, 39)"
      ]
     },
     "metadata": {},
     "output_type": "display_data"
    },
    {
     "data": {
      "text/plain": [
       "(2819, 39)"
      ]
     },
     "metadata": {},
     "output_type": "display_data"
    }
   ],
   "source": [
    "##training and test data \n",
    "\n",
    "from sklearn.model_selection import train_test_split\n",
    "\n",
    "train, test= train_test_split(features_IH01, test_size = 0.25, random_state = 42)\n",
    "\n",
    "display(train.shape)\n",
    "display(test.shape)\n"
   ]
  },
  {
   "cell_type": "markdown",
   "id": "287f2a80",
   "metadata": {},
   "source": [
    "# Hyperparameter optimization "
   ]
  },
  {
   "cell_type": "markdown",
   "id": "78207168",
   "metadata": {},
   "source": [
    "## Define search space "
   ]
  },
  {
   "cell_type": "code",
   "execution_count": 19,
   "id": "e5ec1eba",
   "metadata": {},
   "outputs": [],
   "source": [
    "from sklearn.model_selection import RandomizedSearchCV\n",
    "from sklearn.model_selection import GridSearchCV\n",
    "\n",
    "\n",
    "n_estimators = range(100,500,50) #list [start:stop:step], np arange\n",
    "max_features = np.arange(0.1,0.4,0.05)\n",
    "#min_samples_split = [5,15]\n",
    "min_samples_leaf = range(5,30,5)\n",
    "#min_samples_leaf = [5,15]\n",
    "max_samples = np.arange(0.1,0.4,0.05)\n",
    "\n",
    "random_grid = {'n_estimators': n_estimators,\n",
    "               'max_features': max_features,\n",
    "               'min_samples_leaf': min_samples_leaf, \n",
    "               'max_samples': max_samples,\n",
    "               'bootstrap': [True, False]}"
   ]
  },
  {
   "cell_type": "markdown",
   "id": "a985e5ff",
   "metadata": {},
   "source": [
    "## Cross validation "
   ]
  },
  {
   "cell_type": "code",
   "execution_count": 1,
   "id": "6f0639df",
   "metadata": {},
   "outputs": [],
   "source": [
    "from sklearn.ensemble import RandomForestRegressor\n",
    "\n",
    "rf = RandomForestRegressor()\n",
    "rf_random = RandomizedSearchCV(estimator = rf, param_distributions = random_grid, n_iter = 100, cv = 10, verbose=2, random_state=41, n_jobs = -1)\n",
    "rf_grid = GridSearchCV(estimator = rf, param_grid = random_grid,  cv = 5, verbose=2, n_jobs = -1)\n",
    "\n",
    "rf_random.fit(np.array(train.drop(\"monocytes\", axis = 1)), np.array(train.loc[:,'monocytes']))\n",
    "rf_grid.fit(np.array(train.drop(\"monocytes\", axis = 1)), np.array(train.loc[:,'monocytes']))"
   ]
  },
  {
   "cell_type": "code",
   "execution_count": 21,
   "id": "9c5dc2fe",
   "metadata": {
    "scrolled": true
   },
   "outputs": [
    {
     "data": {
      "text/plain": [
       "{'n_estimators': 300,\n",
       " 'min_samples_leaf': 5,\n",
       " 'max_samples': 0.20000000000000004,\n",
       " 'max_features': 0.30000000000000004,\n",
       " 'bootstrap': True}"
      ]
     },
     "execution_count": 21,
     "metadata": {},
     "output_type": "execute_result"
    }
   ],
   "source": [
    "rf_random.best_params_"
   ]
  },
  {
   "cell_type": "code",
   "execution_count": 7,
   "id": "4c46a286",
   "metadata": {},
   "outputs": [
    {
     "data": {
      "text/plain": [
       "{'bootstrap': True,\n",
       " 'max_features': 0.40000000000000013,\n",
       " 'max_samples': 0.3500000000000001,\n",
       " 'min_samples_leaf': 5,\n",
       " 'n_estimators': 450}"
      ]
     },
     "execution_count": 7,
     "metadata": {},
     "output_type": "execute_result"
    }
   ],
   "source": [
    "rf_grid.best_params_"
   ]
  },
  {
   "cell_type": "markdown",
   "id": "2a400c8c",
   "metadata": {},
   "source": [
    "# Random Forest Regression "
   ]
  },
  {
   "cell_type": "markdown",
   "id": "0dac98a2",
   "metadata": {},
   "source": [
    "## Train model "
   ]
  },
  {
   "cell_type": "code",
   "execution_count": 21,
   "id": "7181e3b5",
   "metadata": {},
   "outputs": [],
   "source": [
    "from sklearn.ensemble import RandomForestRegressor\n",
    "\n",
    "##train and test on features from same healthy sample\n",
    "rf = RandomForestRegressor(n_estimators = 450, random_state = 42, max_features = 0.4, min_samples_leaf = 5, max_samples = 0.35, bootstrap = True)\n",
    "rf.fit(np.array(train.drop(\"monocytes\", axis = 1)), np.array(train.loc[:,'monocytes']))\n",
    "\n",
    "train_new = train.copy()\n",
    "test_new = test.copy()\n"
   ]
  },
  {
   "cell_type": "markdown",
   "id": "f708b093",
   "metadata": {},
   "source": [
    "## Test model "
   ]
  },
  {
   "cell_type": "code",
   "execution_count": 4,
   "id": "bb93af88",
   "metadata": {},
   "outputs": [],
   "source": [
    "##predict expression values in trainings and test set \n",
    "train_new.loc[:,'predicted'] = rf.predict(np.array(train.drop(\"monocytes\", axis = 1)))\n",
    "\n",
    "test_new.loc[:,'predicted'] = rf.predict(np.array(test.drop(\"monocytes\", axis = 1)))"
   ]
  },
  {
   "cell_type": "code",
   "execution_count": 5,
   "id": "3624c8f5",
   "metadata": {},
   "outputs": [
    {
     "data": {
      "text/plain": [
       "Text(0.5, 1.0, 'Test data')"
      ]
     },
     "execution_count": 5,
     "metadata": {},
     "output_type": "execute_result"
    },
    {
     "data": {
      "image/png": "[encoded data removed]",
      "text/plain": [
       "<Figure size 720x720 with 2 Axes>"
      ]
     },
     "metadata": {
      "needs_background": "light"
     },
     "output_type": "display_data"
    }
   ],
   "source": [
    "##plot real expression against predicted expression \n",
    "\n",
    "fig, axs = plt.subplots(2, figsize = (10,10))\n",
    "fig.tight_layout(pad=5.0)\n",
    "axs[0].set_xlabel(\"monocyte expression\")\n",
    "axs[0].set_ylabel(\"predicted expression\")\n",
    "axs[1].set_xlabel(\"monocyte expression\")\n",
    "axs[1].set_ylabel(\"predicted expression\")\n",
    "axs[0].scatter(train_new.loc[:,'monocytes'], train_new.loc[:,'predicted'], s = 2, alpha = 0.7)\n",
    "axs[0].set_title(\"Trainings data\")\n",
    "axs[1].scatter(test_new.loc[:,'monocytes'], test_new.loc[:,'predicted'], s = 2, alpha = 0.7)\n",
    "axs[1].set_title(\"Test data\")\n"
   ]
  },
  {
   "cell_type": "code",
   "execution_count": 6,
   "id": "e576f86e",
   "metadata": {},
   "outputs": [
    {
     "name": "stdout",
     "output_type": "stream",
     "text": [
      "IH01 training set: \n",
      "            monocytes  predicted\n",
      "monocytes   1.000000   0.747442\n",
      "predicted   0.747442   1.000000\n",
      "IH01 test set: \n",
      "            monocytes  predicted\n",
      "monocytes   1.000000   0.382978\n",
      "predicted   0.382978   1.000000\n"
     ]
    }
   ],
   "source": [
    "##print correlation\n",
    "print(\"IH01 training set: \\n\", train_new[['monocytes', 'predicted']].corr())\n",
    "print(\"IH01 test set: \\n\", test_new[['monocytes', 'predicted']].corr())"
   ]
  },
  {
   "cell_type": "code",
   "execution_count": 7,
   "id": "a7301276",
   "metadata": {
    "scrolled": true
   },
   "outputs": [
    {
     "data": {
      "text/plain": [
       "'Trainings score: '"
      ]
     },
     "metadata": {},
     "output_type": "display_data"
    },
    {
     "data": {
      "text/plain": [
       "0.44172796276425663"
      ]
     },
     "metadata": {},
     "output_type": "display_data"
    },
    {
     "data": {
      "text/plain": [
       "'Trainings RMSE: '"
      ]
     },
     "metadata": {},
     "output_type": "display_data"
    },
    {
     "data": {
      "text/plain": [
       "1.4017494145812166"
      ]
     },
     "metadata": {},
     "output_type": "display_data"
    },
    {
     "data": {
      "text/plain": [
       "'Test score: '"
      ]
     },
     "metadata": {},
     "output_type": "display_data"
    },
    {
     "data": {
      "text/plain": [
       "0.14449033595900218"
      ]
     },
     "metadata": {},
     "output_type": "display_data"
    },
    {
     "data": {
      "text/plain": [
       "'Test RMSE: '"
      ]
     },
     "metadata": {},
     "output_type": "display_data"
    },
    {
     "data": {
      "text/plain": [
       "2.1571956050427294"
      ]
     },
     "metadata": {},
     "output_type": "display_data"
    }
   ],
   "source": [
    "from sklearn import metrics\n",
    "\n",
    "##score rf model\n",
    "\n",
    "display('Trainings score: ', rf.score(train_new.drop([\"monocytes\",\"predicted\"], axis = 1), train_new.loc[:,'monocytes']))\n",
    "display('Trainings RMSE: ', metrics.mean_squared_error(train_new.loc[:,'monocytes'], train_new.loc[:,'predicted']))\n",
    "display('Test score: ', rf.score(test_new.drop([\"monocytes\",\"predicted\"], axis = 1), test_new.loc[:,'monocytes']))\n",
    "display('Test RMSE: ',metrics.mean_squared_error(test_new.loc[:,'monocytes'], test_new.loc[:,'predicted']))\n"
   ]
  },
  {
   "cell_type": "markdown",
   "id": "def3c238",
   "metadata": {},
   "source": [
    "## Feature importances "
   ]
  },
  {
   "cell_type": "code",
   "execution_count": 8,
   "id": "c36bcfd5",
   "metadata": {},
   "outputs": [
    {
     "data": {
      "text/html": [
       "<div>\n",
       "<style scoped>\n",
       "    .dataframe tbody tr th:only-of-type {\n",
       "        vertical-align: middle;\n",
       "    }\n",
       "\n",
       "    .dataframe tbody tr th {\n",
       "        vertical-align: top;\n",
       "    }\n",
       "\n",
       "    .dataframe thead th {\n",
       "        text-align: right;\n",
       "    }\n",
       "</style>\n",
       "<table border=\"1\" class=\"dataframe\">\n",
       "  <thead>\n",
       "    <tr style=\"text-align: right;\">\n",
       "      <th></th>\n",
       "      <th>feature</th>\n",
       "      <th>importance</th>\n",
       "    </tr>\n",
       "  </thead>\n",
       "  <tbody>\n",
       "    <tr>\n",
       "      <th>23</th>\n",
       "      <td>mean_cov_2k</td>\n",
       "      <td>0.050011</td>\n",
       "    </tr>\n",
       "    <tr>\n",
       "      <th>22</th>\n",
       "      <td>variance_cov_2k</td>\n",
       "      <td>0.046471</td>\n",
       "    </tr>\n",
       "    <tr>\n",
       "      <th>2</th>\n",
       "      <td>199</td>\n",
       "      <td>0.042083</td>\n",
       "    </tr>\n",
       "    <tr>\n",
       "      <th>1</th>\n",
       "      <td>202</td>\n",
       "      <td>0.040924</td>\n",
       "    </tr>\n",
       "    <tr>\n",
       "      <th>16</th>\n",
       "      <td>mean_cov_body1kb</td>\n",
       "      <td>0.036101</td>\n",
       "    </tr>\n",
       "    <tr>\n",
       "      <th>0</th>\n",
       "      <td>205</td>\n",
       "      <td>0.034436</td>\n",
       "    </tr>\n",
       "    <tr>\n",
       "      <th>34</th>\n",
       "      <td>amp1</td>\n",
       "      <td>0.033469</td>\n",
       "    </tr>\n",
       "    <tr>\n",
       "      <th>3</th>\n",
       "      <td>196</td>\n",
       "      <td>0.03343</td>\n",
       "    </tr>\n",
       "    <tr>\n",
       "      <th>35</th>\n",
       "      <td>amp2</td>\n",
       "      <td>0.031611</td>\n",
       "    </tr>\n",
       "    <tr>\n",
       "      <th>9</th>\n",
       "      <td>180</td>\n",
       "      <td>0.030927</td>\n",
       "    </tr>\n",
       "    <tr>\n",
       "      <th>10</th>\n",
       "      <td>177</td>\n",
       "      <td>0.028956</td>\n",
       "    </tr>\n",
       "    <tr>\n",
       "      <th>18</th>\n",
       "      <td>var_cov_body1kb</td>\n",
       "      <td>0.027786</td>\n",
       "    </tr>\n",
       "    <tr>\n",
       "      <th>21</th>\n",
       "      <td>var_cov_upstream1kb</td>\n",
       "      <td>0.026973</td>\n",
       "    </tr>\n",
       "    <tr>\n",
       "      <th>30</th>\n",
       "      <td>var_wps_upstream1kb</td>\n",
       "      <td>0.026707</td>\n",
       "    </tr>\n",
       "    <tr>\n",
       "      <th>15</th>\n",
       "      <td>166</td>\n",
       "      <td>0.026605</td>\n",
       "    </tr>\n",
       "    <tr>\n",
       "      <th>31</th>\n",
       "      <td>variance_wps_2k</td>\n",
       "      <td>0.025596</td>\n",
       "    </tr>\n",
       "    <tr>\n",
       "      <th>14</th>\n",
       "      <td>168</td>\n",
       "      <td>0.025455</td>\n",
       "    </tr>\n",
       "    <tr>\n",
       "      <th>8</th>\n",
       "      <td>182</td>\n",
       "      <td>0.025334</td>\n",
       "    </tr>\n",
       "    <tr>\n",
       "      <th>11</th>\n",
       "      <td>175</td>\n",
       "      <td>0.025323</td>\n",
       "    </tr>\n",
       "    <tr>\n",
       "      <th>4</th>\n",
       "      <td>193</td>\n",
       "      <td>0.024573</td>\n",
       "    </tr>\n",
       "    <tr>\n",
       "      <th>12</th>\n",
       "      <td>173</td>\n",
       "      <td>0.024064</td>\n",
       "    </tr>\n",
       "    <tr>\n",
       "      <th>27</th>\n",
       "      <td>var_wps_body1kb</td>\n",
       "      <td>0.02403</td>\n",
       "    </tr>\n",
       "    <tr>\n",
       "      <th>32</th>\n",
       "      <td>mean_wps_2k</td>\n",
       "      <td>0.023996</td>\n",
       "    </tr>\n",
       "    <tr>\n",
       "      <th>7</th>\n",
       "      <td>185</td>\n",
       "      <td>0.023978</td>\n",
       "    </tr>\n",
       "    <tr>\n",
       "      <th>6</th>\n",
       "      <td>187</td>\n",
       "      <td>0.02388</td>\n",
       "    </tr>\n",
       "    <tr>\n",
       "      <th>24</th>\n",
       "      <td>median_cov_2k</td>\n",
       "      <td>0.023629</td>\n",
       "    </tr>\n",
       "    <tr>\n",
       "      <th>13</th>\n",
       "      <td>170</td>\n",
       "      <td>0.023597</td>\n",
       "    </tr>\n",
       "    <tr>\n",
       "      <th>5</th>\n",
       "      <td>190</td>\n",
       "      <td>0.02335</td>\n",
       "    </tr>\n",
       "    <tr>\n",
       "      <th>37</th>\n",
       "      <td>ndr_width2</td>\n",
       "      <td>0.022636</td>\n",
       "    </tr>\n",
       "    <tr>\n",
       "      <th>36</th>\n",
       "      <td>ndr_width1</td>\n",
       "      <td>0.022299</td>\n",
       "    </tr>\n",
       "    <tr>\n",
       "      <th>19</th>\n",
       "      <td>mean_cov_upstream1kb</td>\n",
       "      <td>0.021368</td>\n",
       "    </tr>\n",
       "    <tr>\n",
       "      <th>25</th>\n",
       "      <td>mean_wps_body1kb</td>\n",
       "      <td>0.02033</td>\n",
       "    </tr>\n",
       "    <tr>\n",
       "      <th>28</th>\n",
       "      <td>mean_wps_upstream1kb</td>\n",
       "      <td>0.017219</td>\n",
       "    </tr>\n",
       "    <tr>\n",
       "      <th>17</th>\n",
       "      <td>median_cov_body1kb</td>\n",
       "      <td>0.015757</td>\n",
       "    </tr>\n",
       "    <tr>\n",
       "      <th>20</th>\n",
       "      <td>median_cov_upstream1kb</td>\n",
       "      <td>0.01327</td>\n",
       "    </tr>\n",
       "    <tr>\n",
       "      <th>29</th>\n",
       "      <td>median_wps_upstream1kb</td>\n",
       "      <td>0.011913</td>\n",
       "    </tr>\n",
       "    <tr>\n",
       "      <th>26</th>\n",
       "      <td>median_wps_body1kb</td>\n",
       "      <td>0.011239</td>\n",
       "    </tr>\n",
       "    <tr>\n",
       "      <th>33</th>\n",
       "      <td>median_wps_2k</td>\n",
       "      <td>0.01067</td>\n",
       "    </tr>\n",
       "  </tbody>\n",
       "</table>\n",
       "</div>"
      ],
      "text/plain": [
       "                   feature importance\n",
       "23             mean_cov_2k   0.050011\n",
       "22         variance_cov_2k   0.046471\n",
       "2                      199   0.042083\n",
       "1                      202   0.040924\n",
       "16        mean_cov_body1kb   0.036101\n",
       "0                      205   0.034436\n",
       "34                    amp1   0.033469\n",
       "3                      196    0.03343\n",
       "35                    amp2   0.031611\n",
       "9                      180   0.030927\n",
       "10                     177   0.028956\n",
       "18         var_cov_body1kb   0.027786\n",
       "21     var_cov_upstream1kb   0.026973\n",
       "30     var_wps_upstream1kb   0.026707\n",
       "15                     166   0.026605\n",
       "31         variance_wps_2k   0.025596\n",
       "14                     168   0.025455\n",
       "8                      182   0.025334\n",
       "11                     175   0.025323\n",
       "4                      193   0.024573\n",
       "12                     173   0.024064\n",
       "27         var_wps_body1kb    0.02403\n",
       "32             mean_wps_2k   0.023996\n",
       "7                      185   0.023978\n",
       "6                      187    0.02388\n",
       "24           median_cov_2k   0.023629\n",
       "13                     170   0.023597\n",
       "5                      190    0.02335\n",
       "37              ndr_width2   0.022636\n",
       "36              ndr_width1   0.022299\n",
       "19    mean_cov_upstream1kb   0.021368\n",
       "25        mean_wps_body1kb    0.02033\n",
       "28    mean_wps_upstream1kb   0.017219\n",
       "17      median_cov_body1kb   0.015757\n",
       "20  median_cov_upstream1kb    0.01327\n",
       "29  median_wps_upstream1kb   0.011913\n",
       "26      median_wps_body1kb   0.011239\n",
       "33           median_wps_2k    0.01067"
      ]
     },
     "execution_count": 8,
     "metadata": {},
     "output_type": "execute_result"
    }
   ],
   "source": [
    "# get feature importances\n",
    "importance = rf.feature_importances_\n",
    "imp_features = pd.DataFrame(columns = ['feature', 'importance'])\n",
    "\n",
    "\n",
    "# summarize feature importances\n",
    "for i,v in enumerate(importance):\n",
    "    imp_features.loc[i,:] = [train.columns[i],v]\n",
    "\n",
    "imp_features.sort_values(by = 'importance', ascending = False)"
   ]
  },
  {
   "cell_type": "markdown",
   "id": "ded86f6b",
   "metadata": {},
   "source": [
    "## Test model on other samples"
   ]
  },
  {
   "cell_type": "code",
   "execution_count": 9,
   "id": "dc4481ca",
   "metadata": {},
   "outputs": [],
   "source": [
    "##predict expression of a cancer sample (IC17)\n",
    "\n",
    "features_IC17.loc[:,'predicted'] = rf.predict(np.array(features_IC17.drop([\"monocytes\"], axis = 1)))"
   ]
  },
  {
   "cell_type": "code",
   "execution_count": 10,
   "id": "f44e1525",
   "metadata": {},
   "outputs": [
    {
     "data": {
      "text/plain": [
       "<matplotlib.collections.PathCollection at 0x2b099f34be20>"
      ]
     },
     "execution_count": 10,
     "metadata": {},
     "output_type": "execute_result"
    },
    {
     "data": {
      "image/png": "[encoded data removed]",
      "text/plain": [
       "<Figure size 432x288 with 1 Axes>"
      ]
     },
     "metadata": {
      "needs_background": "light"
     },
     "output_type": "display_data"
    }
   ],
   "source": [
    "##plot real expression against predicted expression\n",
    "plt.scatter(features_IC17.loc[:,'monocytes'], features_IC17.loc[:,'predicted'], s = 2, alpha = 0.7)"
   ]
  },
  {
   "cell_type": "code",
   "execution_count": 11,
   "id": "b4874bea",
   "metadata": {
    "scrolled": true
   },
   "outputs": [
    {
     "data": {
      "text/html": [
       "<div>\n",
       "<style scoped>\n",
       "    .dataframe tbody tr th:only-of-type {\n",
       "        vertical-align: middle;\n",
       "    }\n",
       "\n",
       "    .dataframe tbody tr th {\n",
       "        vertical-align: top;\n",
       "    }\n",
       "\n",
       "    .dataframe thead th {\n",
       "        text-align: right;\n",
       "    }\n",
       "</style>\n",
       "<table border=\"1\" class=\"dataframe\">\n",
       "  <thead>\n",
       "    <tr style=\"text-align: right;\">\n",
       "      <th></th>\n",
       "      <th>monocytes</th>\n",
       "      <th>predicted</th>\n",
       "    </tr>\n",
       "  </thead>\n",
       "  <tbody>\n",
       "    <tr>\n",
       "      <th>monocytes</th>\n",
       "      <td>1.000000</td>\n",
       "      <td>0.181786</td>\n",
       "    </tr>\n",
       "    <tr>\n",
       "      <th>predicted</th>\n",
       "      <td>0.181786</td>\n",
       "      <td>1.000000</td>\n",
       "    </tr>\n",
       "  </tbody>\n",
       "</table>\n",
       "</div>"
      ],
      "text/plain": [
       "           monocytes  predicted\n",
       "monocytes   1.000000   0.181786\n",
       "predicted   0.181786   1.000000"
      ]
     },
     "execution_count": 11,
     "metadata": {},
     "output_type": "execute_result"
    }
   ],
   "source": [
    "##print correlation \n",
    "features_IC17[['monocytes', 'predicted']].corr()"
   ]
  },
  {
   "cell_type": "markdown",
   "id": "2f59fda8",
   "metadata": {},
   "source": [
    "# Compare predictions "
   ]
  },
  {
   "cell_type": "markdown",
   "id": "6b8c7ac7",
   "metadata": {},
   "source": [
    "## Differentially predicted (expressed) genes "
   ]
  },
  {
   "cell_type": "code",
   "execution_count": 12,
   "id": "6ccb6601",
   "metadata": {},
   "outputs": [],
   "source": [
    "##dataframe for differentially expressed genes\n",
    "de_genes = pd.DataFrame(index = features_IC17.index)\n",
    "de_genes[\"diff\"] = 0"
   ]
  },
  {
   "cell_type": "code",
   "execution_count": 13,
   "id": "55e4c395",
   "metadata": {},
   "outputs": [],
   "source": [
    "features_IH01 = train_new.append(test_new)\n",
    "features_IH01_ordered = features_IH01.loc[features_IC17.index,:]"
   ]
  },
  {
   "cell_type": "code",
   "execution_count": 14,
   "id": "9dde56de",
   "metadata": {},
   "outputs": [],
   "source": [
    "##calculate differences in expression of IC17\n",
    "for g in features_IC17.index: \n",
    "    de_genes.loc[g, \"diff\"] = max(features_IC17.loc[g,'predicted'] - features_IH01_ordered.loc[g,'predicted'], features_IH01_ordered.loc[g,'predicted'] - features_IC17.loc[g,'predicted'])\n",
    "    "
   ]
  },
  {
   "cell_type": "code",
   "execution_count": 15,
   "id": "e2608e5a",
   "metadata": {},
   "outputs": [],
   "source": [
    "##get 500 most differentially expressed genes \n",
    "de_genes_top500 = de_genes.nlargest(500, columns = \"diff\")"
   ]
  },
  {
   "cell_type": "markdown",
   "id": "6ffe5f1e",
   "metadata": {},
   "source": [
    "### Save top 500 and background genes (GeneOrganizer, David) "
   ]
  },
  {
   "cell_type": "code",
   "execution_count": 16,
   "id": "ac29550d",
   "metadata": {},
   "outputs": [],
   "source": [
    "pd.DataFrame(index = de_genes_top500.index).to_csv(\"cfDNA-reanalysis_Graz/kristin/rf_model/IC17/de_genes500.csv\") \n",
    "pd.DataFrame(index = de_genes.index).to_csv(\"cfDNA-reanalysis_Graz/kristin/rf_model/background_genes.csv\") "
   ]
  },
  {
   "cell_type": "markdown",
   "id": "255b4814",
   "metadata": {},
   "source": [
    "### GSEA "
   ]
  },
  {
   "cell_type": "code",
   "execution_count": 17,
   "id": "ef3e2ec3",
   "metadata": {},
   "outputs": [],
   "source": [
    "import pybiomart as pbm \n",
    "\n",
    "##get biomart dataset \n",
    "dataset = pbm.Dataset(name='hsapiens_gene_ensembl', host='http://www.ensembl.org')"
   ]
  },
  {
   "cell_type": "code",
   "execution_count": 18,
   "id": "a3d9e8ed",
   "metadata": {
    "scrolled": true
   },
   "outputs": [],
   "source": [
    "##get gene name for each gene id in de_genes\n",
    "names = dataset.query(attributes=['ensembl_gene_id', 'external_gene_name'])\n",
    "de_genes_top500 = de_genes_top500.merge(names, left_index = True, right_on = 'Gene stable ID')"
   ]
  },
  {
   "cell_type": "code",
   "execution_count": 23,
   "id": "0da378ca",
   "metadata": {},
   "outputs": [],
   "source": [
    "import gseapy as gp \n",
    "\n",
    "##display gene sets\n",
    "#names = gp.get_library_name()"
   ]
  },
  {
   "cell_type": "code",
   "execution_count": 27,
   "id": "c741af80",
   "metadata": {
    "scrolled": false
   },
   "outputs": [],
   "source": [
    "##enrichment analysis of de_genes \n",
    "enr = gp.enrichr(gene_list= list(de_genes_top500['Gene name']),\n",
    "                 gene_sets=['Cancer_Cell_Line_Encyclopedia','MSigDB_Oncogenic_Signatures'],\n",
    "                 organism='Human', # don't forget to set organism to the one you desired! e.g. Yeast\n",
    "                 description='DE_genes',\n",
    "                 outdir='cfDNA-reanalysis_Graz/kristin/rf_model/gsea/',\n",
    "                 cutoff=0.5 # test dataset, use lower value from range(0,1)\n",
    "                )"
   ]
  },
  {
   "cell_type": "code",
   "execution_count": 114,
   "id": "5acdfd91",
   "metadata": {},
   "outputs": [
    {
     "data": {
      "text/html": [
       "<div>\n",
       "<style scoped>\n",
       "    .dataframe tbody tr th:only-of-type {\n",
       "        vertical-align: middle;\n",
       "    }\n",
       "\n",
       "    .dataframe tbody tr th {\n",
       "        vertical-align: top;\n",
       "    }\n",
       "\n",
       "    .dataframe thead th {\n",
       "        text-align: right;\n",
       "    }\n",
       "</style>\n",
       "<table border=\"1\" class=\"dataframe\">\n",
       "  <thead>\n",
       "    <tr style=\"text-align: right;\">\n",
       "      <th></th>\n",
       "      <th>Gene_set</th>\n",
       "      <th>Term</th>\n",
       "      <th>Overlap</th>\n",
       "      <th>P-value</th>\n",
       "      <th>Adjusted P-value</th>\n",
       "      <th>Old P-value</th>\n",
       "      <th>Old Adjusted P-value</th>\n",
       "      <th>Odds Ratio</th>\n",
       "      <th>Combined Score</th>\n",
       "      <th>Genes</th>\n",
       "    </tr>\n",
       "  </thead>\n",
       "  <tbody>\n",
       "    <tr>\n",
       "      <th>0</th>\n",
       "      <td>Cancer_Cell_Line_Encyclopedia</td>\n",
       "      <td>HS571T OVARY</td>\n",
       "      <td>17/222</td>\n",
       "      <td>0.000046</td>\n",
       "      <td>0.040720</td>\n",
       "      <td>0</td>\n",
       "      <td>0</td>\n",
       "      <td>3.312781</td>\n",
       "      <td>33.068473</td>\n",
       "      <td>SLC24A3;PDE1C;SUSD2;EBF2;SOD3;CYGB;PARD3B;LRRN...</td>\n",
       "    </tr>\n",
       "    <tr>\n",
       "      <th>1</th>\n",
       "      <td>Cancer_Cell_Line_Encyclopedia</td>\n",
       "      <td>HS172T URINARY TRACT</td>\n",
       "      <td>13/150</td>\n",
       "      <td>0.000104</td>\n",
       "      <td>0.045688</td>\n",
       "      <td>0</td>\n",
       "      <td>0</td>\n",
       "      <td>3.772823</td>\n",
       "      <td>34.611258</td>\n",
       "      <td>SPON2;RARRES2;TMEM176B;TACR1;SOD3;CYGB;DLL4;SA...</td>\n",
       "    </tr>\n",
       "    <tr>\n",
       "      <th>2</th>\n",
       "      <td>Cancer_Cell_Line_Encyclopedia</td>\n",
       "      <td>WM115 SKIN</td>\n",
       "      <td>15/201</td>\n",
       "      <td>0.000170</td>\n",
       "      <td>0.049853</td>\n",
       "      <td>0</td>\n",
       "      <td>0</td>\n",
       "      <td>3.211506</td>\n",
       "      <td>27.879506</td>\n",
       "      <td>FLT1;PDE1C;CPXM2;LGI4;SLC35F1;TMEM171;FRMD5;MC...</td>\n",
       "    </tr>\n",
       "    <tr>\n",
       "      <th>3</th>\n",
       "      <td>Cancer_Cell_Line_Encyclopedia</td>\n",
       "      <td>HS675T LARGE INTESTINE</td>\n",
       "      <td>13/169</td>\n",
       "      <td>0.000339</td>\n",
       "      <td>0.069048</td>\n",
       "      <td>0</td>\n",
       "      <td>0</td>\n",
       "      <td>3.310062</td>\n",
       "      <td>26.447227</td>\n",
       "      <td>SPON2;FLT1;RARRES2;TMEM176B;CYGB;PARD3B;SGCD;G...</td>\n",
       "    </tr>\n",
       "    <tr>\n",
       "      <th>4</th>\n",
       "      <td>Cancer_Cell_Line_Encyclopedia</td>\n",
       "      <td>COLO783 SKIN</td>\n",
       "      <td>12/150</td>\n",
       "      <td>0.000398</td>\n",
       "      <td>0.069048</td>\n",
       "      <td>0</td>\n",
       "      <td>0</td>\n",
       "      <td>3.450107</td>\n",
       "      <td>27.009930</td>\n",
       "      <td>GPR143;MC1R;FLT1;SGCD;RTN4RL1;ADAMTS17;ALX1;SL...</td>\n",
       "    </tr>\n",
       "  </tbody>\n",
       "</table>\n",
       "</div>"
      ],
      "text/plain": [
       "                        Gene_set                    Term Overlap   P-value  \\\n",
       "0  Cancer_Cell_Line_Encyclopedia            HS571T OVARY  17/222  0.000046   \n",
       "1  Cancer_Cell_Line_Encyclopedia    HS172T URINARY TRACT  13/150  0.000104   \n",
       "2  Cancer_Cell_Line_Encyclopedia              WM115 SKIN  15/201  0.000170   \n",
       "3  Cancer_Cell_Line_Encyclopedia  HS675T LARGE INTESTINE  13/169  0.000339   \n",
       "4  Cancer_Cell_Line_Encyclopedia            COLO783 SKIN  12/150  0.000398   \n",
       "\n",
       "   Adjusted P-value  Old P-value  Old Adjusted P-value  Odds Ratio  \\\n",
       "0          0.040720            0                     0    3.312781   \n",
       "1          0.045688            0                     0    3.772823   \n",
       "2          0.049853            0                     0    3.211506   \n",
       "3          0.069048            0                     0    3.310062   \n",
       "4          0.069048            0                     0    3.450107   \n",
       "\n",
       "   Combined Score                                              Genes  \n",
       "0       33.068473  SLC24A3;PDE1C;SUSD2;EBF2;SOD3;CYGB;PARD3B;LRRN...  \n",
       "1       34.611258  SPON2;RARRES2;TMEM176B;TACR1;SOD3;CYGB;DLL4;SA...  \n",
       "2       27.879506  FLT1;PDE1C;CPXM2;LGI4;SLC35F1;TMEM171;FRMD5;MC...  \n",
       "3       26.447227  SPON2;FLT1;RARRES2;TMEM176B;CYGB;PARD3B;SGCD;G...  \n",
       "4       27.009930  GPR143;MC1R;FLT1;SGCD;RTN4RL1;ADAMTS17;ALX1;SL...  "
      ]
     },
     "execution_count": 114,
     "metadata": {},
     "output_type": "execute_result"
    }
   ],
   "source": [
    "enr.results.head()"
   ]
  }
 ],
 "metadata": {
  "kernelspec": {
   "display_name": "Python 3",
   "language": "python",
   "name": "python3"
  },
  "language_info": {
   "codemirror_mode": {
    "name": "ipython",
    "version": 3
   },
   "file_extension": ".py",
   "mimetype": "text/x-python",
   "name": "python",
   "nbconvert_exporter": "python",
   "pygments_lexer": "ipython3",
   "version": "3.9.2"
  },
  "toc": {
   "base_numbering": 1,
   "nav_menu": {},
   "number_sections": true,
   "sideBar": true,
   "skip_h1_title": false,
   "title_cell": "Table of Contents",
   "title_sidebar": "Contents",
   "toc_cell": false,
   "toc_position": {},
   "toc_section_display": true,
   "toc_window_display": false
  },
  "varInspector": {
   "cols": {
    "lenName": 16,
    "lenType": 16,
    "lenVar": 40
   },
   "kernels_config": {
    "python": {
     "delete_cmd_postfix": "",
     "delete_cmd_prefix": "del ",
     "library": "var_list.py",
     "varRefreshCmd": "print(var_dic_list())"
    },
    "r": {
     "delete_cmd_postfix": ") ",
     "delete_cmd_prefix": "rm(",
     "library": "var_list.r",
     "varRefreshCmd": "cat(var_dic_list()) "
    }
   },
   "types_to_exclude": [
    "module",
    "function",
    "builtin_function_or_method",
    "instance",
    "_Feature"
   ],
   "window_display": false
  }
 },
 "nbformat": 4,
 "nbformat_minor": 5
}
