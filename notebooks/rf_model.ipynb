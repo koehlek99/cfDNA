{
 "cells": [
  {
   "cell_type": "markdown",
   "id": "c68eab2e",
   "metadata": {
    "heading_collapsed": true
   },
   "source": [
    "# Import packages, load features "
   ]
  },
  {
   "cell_type": "code",
   "execution_count": 2,
   "id": "680ed3db",
   "metadata": {
    "hidden": true,
    "scrolled": true
   },
   "outputs": [
    {
     "name": "stdout",
     "output_type": "stream",
     "text": [
      "/fast/home/groups/ag_kircher\n"
     ]
    }
   ],
   "source": [
    "import pandas as pd\n",
    "import numpy as np\n",
    "import matplotlib.pyplot as plt\n",
    "\n",
    "%cd \"/data/groups/ag_kircher/\"\n",
    "features_IH01 = pd.read_csv(\"cfDNA-reanalysis_Graz/kristin/rf_model/IH01/features.csv\", sep = \"\\t\", index_col = 0, header = 0)\n",
    "features_IC17 = pd.read_csv(\"cfDNA-reanalysis_Graz/kristin/rf_model/IC17/features.csv\", sep = \"\\t\", index_col = 0, header = 0) "
   ]
  },
  {
   "cell_type": "markdown",
   "id": "19e2b4ba",
   "metadata": {
    "heading_collapsed": true
   },
   "source": [
    "# Split into trainings and test set  "
   ]
  },
  {
   "cell_type": "code",
   "execution_count": 3,
   "id": "96efabad",
   "metadata": {
    "hidden": true,
    "scrolled": true
   },
   "outputs": [
    {
     "data": {
      "text/plain": [
       "(8457, 39)"
      ]
     },
     "metadata": {},
     "output_type": "display_data"
    },
    {
     "data": {
      "text/plain": [
       "(2819, 39)"
      ]
     },
     "metadata": {},
     "output_type": "display_data"
    },
    {
     "data": {
      "text/html": [
       "<div>\n",
       "<style scoped>\n",
       "    .dataframe tbody tr th:only-of-type {\n",
       "        vertical-align: middle;\n",
       "    }\n",
       "\n",
       "    .dataframe tbody tr th {\n",
       "        vertical-align: top;\n",
       "    }\n",
       "\n",
       "    .dataframe thead th {\n",
       "        text-align: right;\n",
       "    }\n",
       "</style>\n",
       "<table border=\"1\" class=\"dataframe\">\n",
       "  <thead>\n",
       "    <tr style=\"text-align: right;\">\n",
       "      <th></th>\n",
       "      <th>205</th>\n",
       "      <th>202</th>\n",
       "      <th>199</th>\n",
       "      <th>196</th>\n",
       "      <th>193</th>\n",
       "      <th>190</th>\n",
       "      <th>187</th>\n",
       "      <th>185</th>\n",
       "      <th>182</th>\n",
       "      <th>180</th>\n",
       "      <th>...</th>\n",
       "      <th>median_wps_upstream1kb</th>\n",
       "      <th>var_wps_upstream1kb</th>\n",
       "      <th>variance_wps_2k</th>\n",
       "      <th>mean_wps_2k</th>\n",
       "      <th>median_wps_2k</th>\n",
       "      <th>amp1</th>\n",
       "      <th>amp2</th>\n",
       "      <th>ndr_width1</th>\n",
       "      <th>ndr_width2</th>\n",
       "      <th>monocytes</th>\n",
       "    </tr>\n",
       "  </thead>\n",
       "  <tbody>\n",
       "    <tr>\n",
       "      <th>ENSG00000204410</th>\n",
       "      <td>231119.158529</td>\n",
       "      <td>284023.213171</td>\n",
       "      <td>393252.635053</td>\n",
       "      <td>3.163475e+05</td>\n",
       "      <td>1.670018e+05</td>\n",
       "      <td>1.224154e+05</td>\n",
       "      <td>1.686213e+05</td>\n",
       "      <td>1.622524e+05</td>\n",
       "      <td>1.224241e+05</td>\n",
       "      <td>1.593435e+05</td>\n",
       "      <td>...</td>\n",
       "      <td>-16.0</td>\n",
       "      <td>106.992256</td>\n",
       "      <td>86.733034</td>\n",
       "      <td>-15.5365</td>\n",
       "      <td>-15.0</td>\n",
       "      <td>9.087497</td>\n",
       "      <td>10.349571</td>\n",
       "      <td>100</td>\n",
       "      <td>201</td>\n",
       "      <td>0.925999</td>\n",
       "    </tr>\n",
       "    <tr>\n",
       "      <th>ENSG00000092621</th>\n",
       "      <td>120979.260383</td>\n",
       "      <td>165760.010534</td>\n",
       "      <td>314222.804238</td>\n",
       "      <td>4.176195e+05</td>\n",
       "      <td>3.070609e+05</td>\n",
       "      <td>1.951628e+05</td>\n",
       "      <td>3.306736e+05</td>\n",
       "      <td>3.922548e+05</td>\n",
       "      <td>2.221221e+05</td>\n",
       "      <td>1.219618e+05</td>\n",
       "      <td>...</td>\n",
       "      <td>-53.0</td>\n",
       "      <td>207.620860</td>\n",
       "      <td>175.690915</td>\n",
       "      <td>-53.5305</td>\n",
       "      <td>-53.0</td>\n",
       "      <td>9.311487</td>\n",
       "      <td>25.922968</td>\n",
       "      <td>139</td>\n",
       "      <td>227</td>\n",
       "      <td>0.765535</td>\n",
       "    </tr>\n",
       "    <tr>\n",
       "      <th>ENSG00000143155</th>\n",
       "      <td>122808.452415</td>\n",
       "      <td>378947.251359</td>\n",
       "      <td>764924.079402</td>\n",
       "      <td>7.906882e+05</td>\n",
       "      <td>4.473528e+05</td>\n",
       "      <td>2.937241e+05</td>\n",
       "      <td>1.259068e+06</td>\n",
       "      <td>2.652623e+06</td>\n",
       "      <td>2.154396e+06</td>\n",
       "      <td>9.357492e+05</td>\n",
       "      <td>...</td>\n",
       "      <td>-28.5</td>\n",
       "      <td>243.661613</td>\n",
       "      <td>198.857026</td>\n",
       "      <td>-29.3015</td>\n",
       "      <td>-27.0</td>\n",
       "      <td>13.633186</td>\n",
       "      <td>22.690285</td>\n",
       "      <td>225</td>\n",
       "      <td>367</td>\n",
       "      <td>4.485427</td>\n",
       "    </tr>\n",
       "    <tr>\n",
       "      <th>ENSG00000159259</th>\n",
       "      <td>92613.664935</td>\n",
       "      <td>245168.251266</td>\n",
       "      <td>297723.582734</td>\n",
       "      <td>5.197777e+05</td>\n",
       "      <td>1.047857e+06</td>\n",
       "      <td>1.074078e+06</td>\n",
       "      <td>6.692630e+05</td>\n",
       "      <td>4.969871e+05</td>\n",
       "      <td>4.097995e+05</td>\n",
       "      <td>3.758713e+05</td>\n",
       "      <td>...</td>\n",
       "      <td>-32.0</td>\n",
       "      <td>170.897982</td>\n",
       "      <td>221.620330</td>\n",
       "      <td>-28.9555</td>\n",
       "      <td>-30.0</td>\n",
       "      <td>12.324794</td>\n",
       "      <td>5.363589</td>\n",
       "      <td>192</td>\n",
       "      <td>347</td>\n",
       "      <td>0.847997</td>\n",
       "    </tr>\n",
       "    <tr>\n",
       "      <th>ENSG00000137944</th>\n",
       "      <td>757069.457678</td>\n",
       "      <td>706590.303643</td>\n",
       "      <td>707517.888755</td>\n",
       "      <td>1.131772e+06</td>\n",
       "      <td>1.188585e+06</td>\n",
       "      <td>5.850100e+05</td>\n",
       "      <td>2.262754e+05</td>\n",
       "      <td>2.781393e+05</td>\n",
       "      <td>3.265971e+05</td>\n",
       "      <td>2.381555e+05</td>\n",
       "      <td>...</td>\n",
       "      <td>-27.0</td>\n",
       "      <td>108.408372</td>\n",
       "      <td>119.330493</td>\n",
       "      <td>-20.1835</td>\n",
       "      <td>-19.0</td>\n",
       "      <td>10.171494</td>\n",
       "      <td>18.628757</td>\n",
       "      <td>207</td>\n",
       "      <td>350</td>\n",
       "      <td>3.776104</td>\n",
       "    </tr>\n",
       "    <tr>\n",
       "      <th>...</th>\n",
       "      <td>...</td>\n",
       "      <td>...</td>\n",
       "      <td>...</td>\n",
       "      <td>...</td>\n",
       "      <td>...</td>\n",
       "      <td>...</td>\n",
       "      <td>...</td>\n",
       "      <td>...</td>\n",
       "      <td>...</td>\n",
       "      <td>...</td>\n",
       "      <td>...</td>\n",
       "      <td>...</td>\n",
       "      <td>...</td>\n",
       "      <td>...</td>\n",
       "      <td>...</td>\n",
       "      <td>...</td>\n",
       "      <td>...</td>\n",
       "      <td>...</td>\n",
       "      <td>...</td>\n",
       "      <td>...</td>\n",
       "      <td>...</td>\n",
       "    </tr>\n",
       "    <tr>\n",
       "      <th>ENSG00000147416</th>\n",
       "      <td>187760.850474</td>\n",
       "      <td>342261.196073</td>\n",
       "      <td>286993.353726</td>\n",
       "      <td>2.131697e+05</td>\n",
       "      <td>2.107983e+05</td>\n",
       "      <td>3.162274e+05</td>\n",
       "      <td>7.874926e+05</td>\n",
       "      <td>1.192159e+06</td>\n",
       "      <td>9.418586e+05</td>\n",
       "      <td>4.503279e+05</td>\n",
       "      <td>...</td>\n",
       "      <td>-17.0</td>\n",
       "      <td>211.083154</td>\n",
       "      <td>217.656758</td>\n",
       "      <td>-22.6705</td>\n",
       "      <td>-20.0</td>\n",
       "      <td>22.863386</td>\n",
       "      <td>30.917643</td>\n",
       "      <td>179</td>\n",
       "      <td>364</td>\n",
       "      <td>6.143638</td>\n",
       "    </tr>\n",
       "    <tr>\n",
       "      <th>ENSG00000140961</th>\n",
       "      <td>598439.945814</td>\n",
       "      <td>433310.179588</td>\n",
       "      <td>391884.650395</td>\n",
       "      <td>5.843618e+05</td>\n",
       "      <td>8.250620e+05</td>\n",
       "      <td>1.216694e+06</td>\n",
       "      <td>1.444575e+06</td>\n",
       "      <td>9.242497e+05</td>\n",
       "      <td>3.139244e+05</td>\n",
       "      <td>3.750835e+05</td>\n",
       "      <td>...</td>\n",
       "      <td>-31.0</td>\n",
       "      <td>237.931010</td>\n",
       "      <td>170.135161</td>\n",
       "      <td>-29.4375</td>\n",
       "      <td>-30.0</td>\n",
       "      <td>18.577913</td>\n",
       "      <td>16.561446</td>\n",
       "      <td>159</td>\n",
       "      <td>273</td>\n",
       "      <td>3.733354</td>\n",
       "    </tr>\n",
       "    <tr>\n",
       "      <th>ENSG00000143337</th>\n",
       "      <td>164359.461883</td>\n",
       "      <td>187342.460185</td>\n",
       "      <td>273597.752939</td>\n",
       "      <td>8.237443e+05</td>\n",
       "      <td>1.448681e+06</td>\n",
       "      <td>2.962644e+06</td>\n",
       "      <td>6.040713e+06</td>\n",
       "      <td>5.866966e+06</td>\n",
       "      <td>2.533822e+06</td>\n",
       "      <td>1.085140e+06</td>\n",
       "      <td>...</td>\n",
       "      <td>-19.0</td>\n",
       "      <td>66.084123</td>\n",
       "      <td>67.801876</td>\n",
       "      <td>-14.8550</td>\n",
       "      <td>-13.0</td>\n",
       "      <td>1.894527</td>\n",
       "      <td>9.769045</td>\n",
       "      <td>225</td>\n",
       "      <td>388</td>\n",
       "      <td>5.205549</td>\n",
       "    </tr>\n",
       "    <tr>\n",
       "      <th>ENSG00000074416</th>\n",
       "      <td>134575.175406</td>\n",
       "      <td>380764.258316</td>\n",
       "      <td>718849.518414</td>\n",
       "      <td>6.842198e+05</td>\n",
       "      <td>4.663686e+05</td>\n",
       "      <td>8.038800e+05</td>\n",
       "      <td>1.409943e+06</td>\n",
       "      <td>1.379701e+06</td>\n",
       "      <td>6.651176e+05</td>\n",
       "      <td>1.375281e+05</td>\n",
       "      <td>...</td>\n",
       "      <td>-19.0</td>\n",
       "      <td>98.402778</td>\n",
       "      <td>180.478495</td>\n",
       "      <td>-25.0880</td>\n",
       "      <td>-23.0</td>\n",
       "      <td>28.253830</td>\n",
       "      <td>42.167361</td>\n",
       "      <td>212</td>\n",
       "      <td>379</td>\n",
       "      <td>4.882643</td>\n",
       "    </tr>\n",
       "    <tr>\n",
       "      <th>ENSG00000165898</th>\n",
       "      <td>480912.872909</td>\n",
       "      <td>595078.251576</td>\n",
       "      <td>499806.559139</td>\n",
       "      <td>3.734552e+05</td>\n",
       "      <td>6.551850e+05</td>\n",
       "      <td>1.584198e+06</td>\n",
       "      <td>1.836528e+06</td>\n",
       "      <td>1.110394e+06</td>\n",
       "      <td>6.553726e+05</td>\n",
       "      <td>4.391660e+05</td>\n",
       "      <td>...</td>\n",
       "      <td>-13.0</td>\n",
       "      <td>63.620276</td>\n",
       "      <td>159.205410</td>\n",
       "      <td>-18.5565</td>\n",
       "      <td>-16.0</td>\n",
       "      <td>21.796392</td>\n",
       "      <td>20.262205</td>\n",
       "      <td>169</td>\n",
       "      <td>341</td>\n",
       "      <td>5.157852</td>\n",
       "    </tr>\n",
       "  </tbody>\n",
       "</table>\n",
       "<p>8457 rows × 39 columns</p>\n",
       "</div>"
      ],
      "text/plain": [
       "                           205            202            199           196  \\\n",
       "ENSG00000204410  231119.158529  284023.213171  393252.635053  3.163475e+05   \n",
       "ENSG00000092621  120979.260383  165760.010534  314222.804238  4.176195e+05   \n",
       "ENSG00000143155  122808.452415  378947.251359  764924.079402  7.906882e+05   \n",
       "ENSG00000159259   92613.664935  245168.251266  297723.582734  5.197777e+05   \n",
       "ENSG00000137944  757069.457678  706590.303643  707517.888755  1.131772e+06   \n",
       "...                        ...            ...            ...           ...   \n",
       "ENSG00000147416  187760.850474  342261.196073  286993.353726  2.131697e+05   \n",
       "ENSG00000140961  598439.945814  433310.179588  391884.650395  5.843618e+05   \n",
       "ENSG00000143337  164359.461883  187342.460185  273597.752939  8.237443e+05   \n",
       "ENSG00000074416  134575.175406  380764.258316  718849.518414  6.842198e+05   \n",
       "ENSG00000165898  480912.872909  595078.251576  499806.559139  3.734552e+05   \n",
       "\n",
       "                          193           190           187           185  \\\n",
       "ENSG00000204410  1.670018e+05  1.224154e+05  1.686213e+05  1.622524e+05   \n",
       "ENSG00000092621  3.070609e+05  1.951628e+05  3.306736e+05  3.922548e+05   \n",
       "ENSG00000143155  4.473528e+05  2.937241e+05  1.259068e+06  2.652623e+06   \n",
       "ENSG00000159259  1.047857e+06  1.074078e+06  6.692630e+05  4.969871e+05   \n",
       "ENSG00000137944  1.188585e+06  5.850100e+05  2.262754e+05  2.781393e+05   \n",
       "...                       ...           ...           ...           ...   \n",
       "ENSG00000147416  2.107983e+05  3.162274e+05  7.874926e+05  1.192159e+06   \n",
       "ENSG00000140961  8.250620e+05  1.216694e+06  1.444575e+06  9.242497e+05   \n",
       "ENSG00000143337  1.448681e+06  2.962644e+06  6.040713e+06  5.866966e+06   \n",
       "ENSG00000074416  4.663686e+05  8.038800e+05  1.409943e+06  1.379701e+06   \n",
       "ENSG00000165898  6.551850e+05  1.584198e+06  1.836528e+06  1.110394e+06   \n",
       "\n",
       "                          182           180  ...  median_wps_upstream1kb  \\\n",
       "ENSG00000204410  1.224241e+05  1.593435e+05  ...                   -16.0   \n",
       "ENSG00000092621  2.221221e+05  1.219618e+05  ...                   -53.0   \n",
       "ENSG00000143155  2.154396e+06  9.357492e+05  ...                   -28.5   \n",
       "ENSG00000159259  4.097995e+05  3.758713e+05  ...                   -32.0   \n",
       "ENSG00000137944  3.265971e+05  2.381555e+05  ...                   -27.0   \n",
       "...                       ...           ...  ...                     ...   \n",
       "ENSG00000147416  9.418586e+05  4.503279e+05  ...                   -17.0   \n",
       "ENSG00000140961  3.139244e+05  3.750835e+05  ...                   -31.0   \n",
       "ENSG00000143337  2.533822e+06  1.085140e+06  ...                   -19.0   \n",
       "ENSG00000074416  6.651176e+05  1.375281e+05  ...                   -19.0   \n",
       "ENSG00000165898  6.553726e+05  4.391660e+05  ...                   -13.0   \n",
       "\n",
       "                 var_wps_upstream1kb  variance_wps_2k  mean_wps_2k  \\\n",
       "ENSG00000204410           106.992256        86.733034     -15.5365   \n",
       "ENSG00000092621           207.620860       175.690915     -53.5305   \n",
       "ENSG00000143155           243.661613       198.857026     -29.3015   \n",
       "ENSG00000159259           170.897982       221.620330     -28.9555   \n",
       "ENSG00000137944           108.408372       119.330493     -20.1835   \n",
       "...                              ...              ...          ...   \n",
       "ENSG00000147416           211.083154       217.656758     -22.6705   \n",
       "ENSG00000140961           237.931010       170.135161     -29.4375   \n",
       "ENSG00000143337            66.084123        67.801876     -14.8550   \n",
       "ENSG00000074416            98.402778       180.478495     -25.0880   \n",
       "ENSG00000165898            63.620276       159.205410     -18.5565   \n",
       "\n",
       "                 median_wps_2k       amp1       amp2  ndr_width1  ndr_width2  \\\n",
       "ENSG00000204410          -15.0   9.087497  10.349571         100         201   \n",
       "ENSG00000092621          -53.0   9.311487  25.922968         139         227   \n",
       "ENSG00000143155          -27.0  13.633186  22.690285         225         367   \n",
       "ENSG00000159259          -30.0  12.324794   5.363589         192         347   \n",
       "ENSG00000137944          -19.0  10.171494  18.628757         207         350   \n",
       "...                        ...        ...        ...         ...         ...   \n",
       "ENSG00000147416          -20.0  22.863386  30.917643         179         364   \n",
       "ENSG00000140961          -30.0  18.577913  16.561446         159         273   \n",
       "ENSG00000143337          -13.0   1.894527   9.769045         225         388   \n",
       "ENSG00000074416          -23.0  28.253830  42.167361         212         379   \n",
       "ENSG00000165898          -16.0  21.796392  20.262205         169         341   \n",
       "\n",
       "                 monocytes  \n",
       "ENSG00000204410   0.925999  \n",
       "ENSG00000092621   0.765535  \n",
       "ENSG00000143155   4.485427  \n",
       "ENSG00000159259   0.847997  \n",
       "ENSG00000137944   3.776104  \n",
       "...                    ...  \n",
       "ENSG00000147416   6.143638  \n",
       "ENSG00000140961   3.733354  \n",
       "ENSG00000143337   5.205549  \n",
       "ENSG00000074416   4.882643  \n",
       "ENSG00000165898   5.157852  \n",
       "\n",
       "[8457 rows x 39 columns]"
      ]
     },
     "execution_count": 3,
     "metadata": {},
     "output_type": "execute_result"
    }
   ],
   "source": [
    "##training and test data \n",
    "\n",
    "from sklearn.model_selection import train_test_split\n",
    "\n",
    "train, test= train_test_split(features_IH01, test_size = 0.25, random_state = 42)\n",
    "\n",
    "display(train.shape)\n",
    "display(test.shape)\n",
    "train\n"
   ]
  },
  {
   "cell_type": "markdown",
   "id": "287f2a80",
   "metadata": {},
   "source": [
    "# Hyperparameter optimization "
   ]
  },
  {
   "cell_type": "markdown",
   "id": "78207168",
   "metadata": {
    "heading_collapsed": true
   },
   "source": [
    "## Define search space "
   ]
  },
  {
   "cell_type": "code",
   "execution_count": 19,
   "id": "e5ec1eba",
   "metadata": {
    "hidden": true
   },
   "outputs": [],
   "source": [
    "from sklearn.model_selection import RandomizedSearchCV\n",
    "from sklearn.model_selection import GridSearchCV\n",
    "\n",
    "\n",
    "n_estimators = range(100,500,50) #list [start:stop:step], np arange\n",
    "max_features = np.arange(0.1,0.4,0.05)\n",
    "#min_samples_split = [5,15]\n",
    "min_samples_leaf = range(5,30,5)\n",
    "#min_samples_leaf = [5,15]\n",
    "max_samples = np.arange(0.1,0.4,0.05)\n",
    "\n",
    "random_grid = {'n_estimators': n_estimators,\n",
    "               'max_features': max_features,\n",
    "               'min_samples_leaf': min_samples_leaf, \n",
    "               'max_samples': max_samples,\n",
    "               'bootstrap': [True, False]}"
   ]
  },
  {
   "cell_type": "markdown",
   "id": "a985e5ff",
   "metadata": {
    "heading_collapsed": true
   },
   "source": [
    "## Cross validation "
   ]
  },
  {
   "cell_type": "code",
   "execution_count": 36,
   "id": "6f0639df",
   "metadata": {
    "collapsed": true,
    "hidden": true
   },
   "outputs": [
    {
     "name": "stdout",
     "output_type": "stream",
     "text": [
      "Fitting 10 folds for each of 100 candidates, totalling 1000 fits\n"
     ]
    },
    {
     "ename": "KeyboardInterrupt",
     "evalue": "",
     "output_type": "error",
     "traceback": [
      "\u001b[0;31m---------------------------------------------------------------------------\u001b[0m",
      "\u001b[0;31mKeyboardInterrupt\u001b[0m                         Traceback (most recent call last)",
      "\u001b[0;32m<ipython-input-36-f13bc643f562>\u001b[0m in \u001b[0;36m<module>\u001b[0;34m\u001b[0m\n\u001b[1;32m      5\u001b[0m \u001b[0;31m#rf_grid = GridSearchCV(estimator = rf, param_grid = random_grid,  cv = 5, verbose=2, n_jobs = -1)\u001b[0m\u001b[0;34m\u001b[0m\u001b[0;34m\u001b[0m\u001b[0;34m\u001b[0m\u001b[0m\n\u001b[1;32m      6\u001b[0m \u001b[0;34m\u001b[0m\u001b[0m\n\u001b[0;32m----> 7\u001b[0;31m \u001b[0mrf_random\u001b[0m\u001b[0;34m.\u001b[0m\u001b[0mfit\u001b[0m\u001b[0;34m(\u001b[0m\u001b[0mnp\u001b[0m\u001b[0;34m.\u001b[0m\u001b[0marray\u001b[0m\u001b[0;34m(\u001b[0m\u001b[0mtrain\u001b[0m\u001b[0;34m.\u001b[0m\u001b[0mdrop\u001b[0m\u001b[0;34m(\u001b[0m\u001b[0;34m\"monocytes\"\u001b[0m\u001b[0;34m,\u001b[0m \u001b[0maxis\u001b[0m \u001b[0;34m=\u001b[0m \u001b[0;36m1\u001b[0m\u001b[0;34m)\u001b[0m\u001b[0;34m)\u001b[0m\u001b[0;34m,\u001b[0m \u001b[0mnp\u001b[0m\u001b[0;34m.\u001b[0m\u001b[0marray\u001b[0m\u001b[0;34m(\u001b[0m\u001b[0mtrain\u001b[0m\u001b[0;34m.\u001b[0m\u001b[0mloc\u001b[0m\u001b[0;34m[\u001b[0m\u001b[0;34m:\u001b[0m\u001b[0;34m,\u001b[0m\u001b[0;34m'monocytes'\u001b[0m\u001b[0;34m]\u001b[0m\u001b[0;34m)\u001b[0m\u001b[0;34m)\u001b[0m\u001b[0;34m\u001b[0m\u001b[0;34m\u001b[0m\u001b[0m\n\u001b[0m",
      "\u001b[0;32m~/work/miniconda/envs/jupyter/lib/python3.9/site-packages/sklearn/utils/validation.py\u001b[0m in \u001b[0;36minner_f\u001b[0;34m(*args, **kwargs)\u001b[0m\n\u001b[1;32m     61\u001b[0m             \u001b[0mextra_args\u001b[0m \u001b[0;34m=\u001b[0m \u001b[0mlen\u001b[0m\u001b[0;34m(\u001b[0m\u001b[0margs\u001b[0m\u001b[0;34m)\u001b[0m \u001b[0;34m-\u001b[0m \u001b[0mlen\u001b[0m\u001b[0;34m(\u001b[0m\u001b[0mall_args\u001b[0m\u001b[0;34m)\u001b[0m\u001b[0;34m\u001b[0m\u001b[0;34m\u001b[0m\u001b[0m\n\u001b[1;32m     62\u001b[0m             \u001b[0;32mif\u001b[0m \u001b[0mextra_args\u001b[0m \u001b[0;34m<=\u001b[0m \u001b[0;36m0\u001b[0m\u001b[0;34m:\u001b[0m\u001b[0;34m\u001b[0m\u001b[0;34m\u001b[0m\u001b[0m\n\u001b[0;32m---> 63\u001b[0;31m                 \u001b[0;32mreturn\u001b[0m \u001b[0mf\u001b[0m\u001b[0;34m(\u001b[0m\u001b[0;34m*\u001b[0m\u001b[0margs\u001b[0m\u001b[0;34m,\u001b[0m \u001b[0;34m**\u001b[0m\u001b[0mkwargs\u001b[0m\u001b[0;34m)\u001b[0m\u001b[0;34m\u001b[0m\u001b[0;34m\u001b[0m\u001b[0m\n\u001b[0m\u001b[1;32m     64\u001b[0m \u001b[0;34m\u001b[0m\u001b[0m\n\u001b[1;32m     65\u001b[0m             \u001b[0;31m# extra_args > 0\u001b[0m\u001b[0;34m\u001b[0m\u001b[0;34m\u001b[0m\u001b[0;34m\u001b[0m\u001b[0m\n",
      "\u001b[0;32m~/work/miniconda/envs/jupyter/lib/python3.9/site-packages/sklearn/model_selection/_search.py\u001b[0m in \u001b[0;36mfit\u001b[0;34m(self, X, y, groups, **fit_params)\u001b[0m\n\u001b[1;32m    839\u001b[0m                 \u001b[0;32mreturn\u001b[0m \u001b[0mresults\u001b[0m\u001b[0;34m\u001b[0m\u001b[0;34m\u001b[0m\u001b[0m\n\u001b[1;32m    840\u001b[0m \u001b[0;34m\u001b[0m\u001b[0m\n\u001b[0;32m--> 841\u001b[0;31m             \u001b[0mself\u001b[0m\u001b[0;34m.\u001b[0m\u001b[0m_run_search\u001b[0m\u001b[0;34m(\u001b[0m\u001b[0mevaluate_candidates\u001b[0m\u001b[0;34m)\u001b[0m\u001b[0;34m\u001b[0m\u001b[0;34m\u001b[0m\u001b[0m\n\u001b[0m\u001b[1;32m    842\u001b[0m \u001b[0;34m\u001b[0m\u001b[0m\n\u001b[1;32m    843\u001b[0m             \u001b[0;31m# multimetric is determined here because in the case of a callable\u001b[0m\u001b[0;34m\u001b[0m\u001b[0;34m\u001b[0m\u001b[0;34m\u001b[0m\u001b[0m\n",
      "\u001b[0;32m~/work/miniconda/envs/jupyter/lib/python3.9/site-packages/sklearn/model_selection/_search.py\u001b[0m in \u001b[0;36m_run_search\u001b[0;34m(self, evaluate_candidates)\u001b[0m\n\u001b[1;32m   1617\u001b[0m     \u001b[0;32mdef\u001b[0m \u001b[0m_run_search\u001b[0m\u001b[0;34m(\u001b[0m\u001b[0mself\u001b[0m\u001b[0;34m,\u001b[0m \u001b[0mevaluate_candidates\u001b[0m\u001b[0;34m)\u001b[0m\u001b[0;34m:\u001b[0m\u001b[0;34m\u001b[0m\u001b[0;34m\u001b[0m\u001b[0m\n\u001b[1;32m   1618\u001b[0m         \u001b[0;34m\"\"\"Search n_iter candidates from param_distributions\"\"\"\u001b[0m\u001b[0;34m\u001b[0m\u001b[0;34m\u001b[0m\u001b[0m\n\u001b[0;32m-> 1619\u001b[0;31m         evaluate_candidates(ParameterSampler(\n\u001b[0m\u001b[1;32m   1620\u001b[0m             \u001b[0mself\u001b[0m\u001b[0;34m.\u001b[0m\u001b[0mparam_distributions\u001b[0m\u001b[0;34m,\u001b[0m \u001b[0mself\u001b[0m\u001b[0;34m.\u001b[0m\u001b[0mn_iter\u001b[0m\u001b[0;34m,\u001b[0m\u001b[0;34m\u001b[0m\u001b[0;34m\u001b[0m\u001b[0m\n\u001b[1;32m   1621\u001b[0m             random_state=self.random_state))\n",
      "\u001b[0;32m~/work/miniconda/envs/jupyter/lib/python3.9/site-packages/sklearn/model_selection/_search.py\u001b[0m in \u001b[0;36mevaluate_candidates\u001b[0;34m(candidate_params, cv, more_results)\u001b[0m\n\u001b[1;32m    793\u001b[0m                               n_splits, n_candidates, n_candidates * n_splits))\n\u001b[1;32m    794\u001b[0m \u001b[0;34m\u001b[0m\u001b[0m\n\u001b[0;32m--> 795\u001b[0;31m                 out = parallel(delayed(_fit_and_score)(clone(base_estimator),\n\u001b[0m\u001b[1;32m    796\u001b[0m                                                        \u001b[0mX\u001b[0m\u001b[0;34m,\u001b[0m \u001b[0my\u001b[0m\u001b[0;34m,\u001b[0m\u001b[0;34m\u001b[0m\u001b[0;34m\u001b[0m\u001b[0m\n\u001b[1;32m    797\u001b[0m                                                        \u001b[0mtrain\u001b[0m\u001b[0;34m=\u001b[0m\u001b[0mtrain\u001b[0m\u001b[0;34m,\u001b[0m \u001b[0mtest\u001b[0m\u001b[0;34m=\u001b[0m\u001b[0mtest\u001b[0m\u001b[0;34m,\u001b[0m\u001b[0;34m\u001b[0m\u001b[0;34m\u001b[0m\u001b[0m\n",
      "\u001b[0;32m~/work/miniconda/envs/jupyter/lib/python3.9/site-packages/joblib/parallel.py\u001b[0m in \u001b[0;36m__call__\u001b[0;34m(self, iterable)\u001b[0m\n\u001b[1;32m   1059\u001b[0m \u001b[0;34m\u001b[0m\u001b[0m\n\u001b[1;32m   1060\u001b[0m             \u001b[0;32mwith\u001b[0m \u001b[0mself\u001b[0m\u001b[0;34m.\u001b[0m\u001b[0m_backend\u001b[0m\u001b[0;34m.\u001b[0m\u001b[0mretrieval_context\u001b[0m\u001b[0;34m(\u001b[0m\u001b[0;34m)\u001b[0m\u001b[0;34m:\u001b[0m\u001b[0;34m\u001b[0m\u001b[0;34m\u001b[0m\u001b[0m\n\u001b[0;32m-> 1061\u001b[0;31m                 \u001b[0mself\u001b[0m\u001b[0;34m.\u001b[0m\u001b[0mretrieve\u001b[0m\u001b[0;34m(\u001b[0m\u001b[0;34m)\u001b[0m\u001b[0;34m\u001b[0m\u001b[0;34m\u001b[0m\u001b[0m\n\u001b[0m\u001b[1;32m   1062\u001b[0m             \u001b[0;31m# Make sure that we get a last message telling us we are done\u001b[0m\u001b[0;34m\u001b[0m\u001b[0;34m\u001b[0m\u001b[0;34m\u001b[0m\u001b[0m\n\u001b[1;32m   1063\u001b[0m             \u001b[0melapsed_time\u001b[0m \u001b[0;34m=\u001b[0m \u001b[0mtime\u001b[0m\u001b[0;34m.\u001b[0m\u001b[0mtime\u001b[0m\u001b[0;34m(\u001b[0m\u001b[0;34m)\u001b[0m \u001b[0;34m-\u001b[0m \u001b[0mself\u001b[0m\u001b[0;34m.\u001b[0m\u001b[0m_start_time\u001b[0m\u001b[0;34m\u001b[0m\u001b[0;34m\u001b[0m\u001b[0m\n",
      "\u001b[0;32m~/work/miniconda/envs/jupyter/lib/python3.9/site-packages/joblib/parallel.py\u001b[0m in \u001b[0;36mretrieve\u001b[0;34m(self)\u001b[0m\n\u001b[1;32m    938\u001b[0m             \u001b[0;32mtry\u001b[0m\u001b[0;34m:\u001b[0m\u001b[0;34m\u001b[0m\u001b[0;34m\u001b[0m\u001b[0m\n\u001b[1;32m    939\u001b[0m                 \u001b[0;32mif\u001b[0m \u001b[0mgetattr\u001b[0m\u001b[0;34m(\u001b[0m\u001b[0mself\u001b[0m\u001b[0;34m.\u001b[0m\u001b[0m_backend\u001b[0m\u001b[0;34m,\u001b[0m \u001b[0;34m'supports_timeout'\u001b[0m\u001b[0;34m,\u001b[0m \u001b[0;32mFalse\u001b[0m\u001b[0;34m)\u001b[0m\u001b[0;34m:\u001b[0m\u001b[0;34m\u001b[0m\u001b[0;34m\u001b[0m\u001b[0m\n\u001b[0;32m--> 940\u001b[0;31m                     \u001b[0mself\u001b[0m\u001b[0;34m.\u001b[0m\u001b[0m_output\u001b[0m\u001b[0;34m.\u001b[0m\u001b[0mextend\u001b[0m\u001b[0;34m(\u001b[0m\u001b[0mjob\u001b[0m\u001b[0;34m.\u001b[0m\u001b[0mget\u001b[0m\u001b[0;34m(\u001b[0m\u001b[0mtimeout\u001b[0m\u001b[0;34m=\u001b[0m\u001b[0mself\u001b[0m\u001b[0;34m.\u001b[0m\u001b[0mtimeout\u001b[0m\u001b[0;34m)\u001b[0m\u001b[0;34m)\u001b[0m\u001b[0;34m\u001b[0m\u001b[0;34m\u001b[0m\u001b[0m\n\u001b[0m\u001b[1;32m    941\u001b[0m                 \u001b[0;32melse\u001b[0m\u001b[0;34m:\u001b[0m\u001b[0;34m\u001b[0m\u001b[0;34m\u001b[0m\u001b[0m\n\u001b[1;32m    942\u001b[0m                     \u001b[0mself\u001b[0m\u001b[0;34m.\u001b[0m\u001b[0m_output\u001b[0m\u001b[0;34m.\u001b[0m\u001b[0mextend\u001b[0m\u001b[0;34m(\u001b[0m\u001b[0mjob\u001b[0m\u001b[0;34m.\u001b[0m\u001b[0mget\u001b[0m\u001b[0;34m(\u001b[0m\u001b[0;34m)\u001b[0m\u001b[0;34m)\u001b[0m\u001b[0;34m\u001b[0m\u001b[0;34m\u001b[0m\u001b[0m\n",
      "\u001b[0;32m~/work/miniconda/envs/jupyter/lib/python3.9/site-packages/joblib/_parallel_backends.py\u001b[0m in \u001b[0;36mwrap_future_result\u001b[0;34m(future, timeout)\u001b[0m\n\u001b[1;32m    540\u001b[0m         AsyncResults.get from multiprocessing.\"\"\"\n\u001b[1;32m    541\u001b[0m         \u001b[0;32mtry\u001b[0m\u001b[0;34m:\u001b[0m\u001b[0;34m\u001b[0m\u001b[0;34m\u001b[0m\u001b[0m\n\u001b[0;32m--> 542\u001b[0;31m             \u001b[0;32mreturn\u001b[0m \u001b[0mfuture\u001b[0m\u001b[0;34m.\u001b[0m\u001b[0mresult\u001b[0m\u001b[0;34m(\u001b[0m\u001b[0mtimeout\u001b[0m\u001b[0;34m=\u001b[0m\u001b[0mtimeout\u001b[0m\u001b[0;34m)\u001b[0m\u001b[0;34m\u001b[0m\u001b[0;34m\u001b[0m\u001b[0m\n\u001b[0m\u001b[1;32m    543\u001b[0m         \u001b[0;32mexcept\u001b[0m \u001b[0mCfTimeoutError\u001b[0m \u001b[0;32mas\u001b[0m \u001b[0me\u001b[0m\u001b[0;34m:\u001b[0m\u001b[0;34m\u001b[0m\u001b[0;34m\u001b[0m\u001b[0m\n\u001b[1;32m    544\u001b[0m             \u001b[0;32mraise\u001b[0m \u001b[0mTimeoutError\u001b[0m \u001b[0;32mfrom\u001b[0m \u001b[0me\u001b[0m\u001b[0;34m\u001b[0m\u001b[0;34m\u001b[0m\u001b[0m\n",
      "\u001b[0;32m~/work/miniconda/envs/jupyter/lib/python3.9/concurrent/futures/_base.py\u001b[0m in \u001b[0;36mresult\u001b[0;34m(self, timeout)\u001b[0m\n\u001b[1;32m    433\u001b[0m                 \u001b[0;32mreturn\u001b[0m \u001b[0mself\u001b[0m\u001b[0;34m.\u001b[0m\u001b[0m__get_result\u001b[0m\u001b[0;34m(\u001b[0m\u001b[0;34m)\u001b[0m\u001b[0;34m\u001b[0m\u001b[0;34m\u001b[0m\u001b[0m\n\u001b[1;32m    434\u001b[0m \u001b[0;34m\u001b[0m\u001b[0m\n\u001b[0;32m--> 435\u001b[0;31m             \u001b[0mself\u001b[0m\u001b[0;34m.\u001b[0m\u001b[0m_condition\u001b[0m\u001b[0;34m.\u001b[0m\u001b[0mwait\u001b[0m\u001b[0;34m(\u001b[0m\u001b[0mtimeout\u001b[0m\u001b[0;34m)\u001b[0m\u001b[0;34m\u001b[0m\u001b[0;34m\u001b[0m\u001b[0m\n\u001b[0m\u001b[1;32m    436\u001b[0m \u001b[0;34m\u001b[0m\u001b[0m\n\u001b[1;32m    437\u001b[0m             \u001b[0;32mif\u001b[0m \u001b[0mself\u001b[0m\u001b[0;34m.\u001b[0m\u001b[0m_state\u001b[0m \u001b[0;32min\u001b[0m \u001b[0;34m[\u001b[0m\u001b[0mCANCELLED\u001b[0m\u001b[0;34m,\u001b[0m \u001b[0mCANCELLED_AND_NOTIFIED\u001b[0m\u001b[0;34m]\u001b[0m\u001b[0;34m:\u001b[0m\u001b[0;34m\u001b[0m\u001b[0;34m\u001b[0m\u001b[0m\n",
      "\u001b[0;32m~/work/miniconda/envs/jupyter/lib/python3.9/threading.py\u001b[0m in \u001b[0;36mwait\u001b[0;34m(self, timeout)\u001b[0m\n\u001b[1;32m    310\u001b[0m         \u001b[0;32mtry\u001b[0m\u001b[0;34m:\u001b[0m    \u001b[0;31m# restore state no matter what (e.g., KeyboardInterrupt)\u001b[0m\u001b[0;34m\u001b[0m\u001b[0;34m\u001b[0m\u001b[0m\n\u001b[1;32m    311\u001b[0m             \u001b[0;32mif\u001b[0m \u001b[0mtimeout\u001b[0m \u001b[0;32mis\u001b[0m \u001b[0;32mNone\u001b[0m\u001b[0;34m:\u001b[0m\u001b[0;34m\u001b[0m\u001b[0;34m\u001b[0m\u001b[0m\n\u001b[0;32m--> 312\u001b[0;31m                 \u001b[0mwaiter\u001b[0m\u001b[0;34m.\u001b[0m\u001b[0macquire\u001b[0m\u001b[0;34m(\u001b[0m\u001b[0;34m)\u001b[0m\u001b[0;34m\u001b[0m\u001b[0;34m\u001b[0m\u001b[0m\n\u001b[0m\u001b[1;32m    313\u001b[0m                 \u001b[0mgotit\u001b[0m \u001b[0;34m=\u001b[0m \u001b[0;32mTrue\u001b[0m\u001b[0;34m\u001b[0m\u001b[0;34m\u001b[0m\u001b[0m\n\u001b[1;32m    314\u001b[0m             \u001b[0;32melse\u001b[0m\u001b[0;34m:\u001b[0m\u001b[0;34m\u001b[0m\u001b[0;34m\u001b[0m\u001b[0m\n",
      "\u001b[0;31mKeyboardInterrupt\u001b[0m: "
     ]
    }
   ],
   "source": [
    "from sklearn.ensemble import RandomForestRegressor\n",
    "\n",
    "rf = RandomForestRegressor()\n",
    "rf_random = RandomizedSearchCV(estimator = rf, param_distributions = random_grid, n_iter = 100, cv = 10, verbose=2, random_state=41, n_jobs = -1)\n",
    "#rf_grid = GridSearchCV(estimator = rf, param_grid = random_grid,  cv = 5, verbose=2, n_jobs = -1)\n",
    "\n",
    "rf_random.fit(np.array(train.drop(\"monocytes\", axis = 1)), np.array(train.loc[:,'monocytes']))"
   ]
  },
  {
   "cell_type": "code",
   "execution_count": 21,
   "id": "9c5dc2fe",
   "metadata": {
    "hidden": true,
    "scrolled": true
   },
   "outputs": [
    {
     "data": {
      "text/plain": [
       "{'n_estimators': 300,\n",
       " 'min_samples_leaf': 5,\n",
       " 'max_samples': 0.20000000000000004,\n",
       " 'max_features': 0.30000000000000004,\n",
       " 'bootstrap': True}"
      ]
     },
     "execution_count": 21,
     "metadata": {},
     "output_type": "execute_result"
    }
   ],
   "source": [
    "rf_random.best_params_"
   ]
  },
  {
   "cell_type": "code",
   "execution_count": 7,
   "id": "4c46a286",
   "metadata": {
    "hidden": true
   },
   "outputs": [
    {
     "data": {
      "text/plain": [
       "{'bootstrap': True,\n",
       " 'max_features': 0.40000000000000013,\n",
       " 'max_samples': 0.3500000000000001,\n",
       " 'min_samples_leaf': 5,\n",
       " 'n_estimators': 450}"
      ]
     },
     "execution_count": 7,
     "metadata": {},
     "output_type": "execute_result"
    }
   ],
   "source": [
    "rf_grid.best_params_"
   ]
  },
  {
   "cell_type": "code",
   "execution_count": null,
   "id": "43eb1e3e",
   "metadata": {
    "hidden": true
   },
   "outputs": [],
   "source": [
    "#350, 42, 0.35, 5, 15,  0.3, True"
   ]
  },
  {
   "cell_type": "markdown",
   "id": "2a400c8c",
   "metadata": {},
   "source": [
    "# Random Forest Regression "
   ]
  },
  {
   "cell_type": "markdown",
   "id": "0dac98a2",
   "metadata": {
    "heading_collapsed": true
   },
   "source": [
    "## Train model "
   ]
  },
  {
   "cell_type": "code",
   "execution_count": 4,
   "id": "7181e3b5",
   "metadata": {
    "hidden": true
   },
   "outputs": [],
   "source": [
    "from sklearn.ensemble import RandomForestRegressor\n",
    "\n",
    "##train and test on features from same healthy sample\n",
    "rf = RandomForestRegressor(n_estimators = 450, random_state = 42, max_features = 0.4, min_samples_leaf = 5, max_samples = 0.35, bootstrap = True)\n",
    "rf.fit(np.array(train.drop(\"monocytes\", axis = 1)), np.array(train.loc[:,'monocytes']))\n",
    "\n",
    "train_new = train.copy()\n",
    "test_new = test.copy()\n"
   ]
  },
  {
   "cell_type": "markdown",
   "id": "f708b093",
   "metadata": {
    "heading_collapsed": true
   },
   "source": [
    "## Test model "
   ]
  },
  {
   "cell_type": "code",
   "execution_count": 5,
   "id": "bb93af88",
   "metadata": {
    "hidden": true
   },
   "outputs": [],
   "source": [
    "##predict expression values in trainings and test set \n",
    "train_new.loc[:,'predicted'] = rf.predict(np.array(train.drop(\"monocytes\", axis = 1)))\n",
    "\n",
    "test_new.loc[:,'predicted'] = rf.predict(np.array(test.drop(\"monocytes\", axis = 1)))"
   ]
  },
  {
   "cell_type": "code",
   "execution_count": 6,
   "id": "3624c8f5",
   "metadata": {
    "hidden": true
   },
   "outputs": [
    {
     "data": {
      "text/plain": [
       "Text(0.5, 1.0, 'Test data')"
      ]
     },
     "execution_count": 6,
     "metadata": {},
     "output_type": "execute_result"
    },
    {
     "data": {
      "image/png": "[encoded data removed]",
      "text/plain": [
       "<Figure size 720x720 with 2 Axes>"
      ]
     },
     "metadata": {
      "needs_background": "light"
     },
     "output_type": "display_data"
    }
   ],
   "source": [
    "##plot real expression against predicted expression \n",
    "\n",
    "fig, axs = plt.subplots(2, figsize = (10,10))\n",
    "fig.tight_layout(pad=5.0)\n",
    "axs[0].set_xlabel(\"monocyte expression\")\n",
    "axs[0].set_ylabel(\"predicted expression\")\n",
    "axs[1].set_xlabel(\"monocyte expression\")\n",
    "axs[1].set_ylabel(\"predicted expression\")\n",
    "axs[0].scatter(train_new.loc[:,'monocytes'], train_new.loc[:,'predicted'], s = 2, alpha = 0.7)\n",
    "axs[0].set_title(\"Trainings data\")\n",
    "axs[1].scatter(test_new.loc[:,'monocytes'], test_new.loc[:,'predicted'], s = 2, alpha = 0.7)\n",
    "axs[1].set_title(\"Test data\")\n"
   ]
  },
  {
   "cell_type": "code",
   "execution_count": 7,
   "id": "e576f86e",
   "metadata": {
    "hidden": true
   },
   "outputs": [
    {
     "name": "stdout",
     "output_type": "stream",
     "text": [
      "IH01 training set: \n",
      "            monocytes  predicted\n",
      "monocytes   1.000000   0.747442\n",
      "predicted   0.747442   1.000000\n",
      "IH01 test set: \n",
      "            monocytes  predicted\n",
      "monocytes   1.000000   0.382978\n",
      "predicted   0.382978   1.000000\n"
     ]
    }
   ],
   "source": [
    "##print correlation\n",
    "print(\"IH01 training set: \\n\", train_new[['monocytes', 'predicted']].corr())\n",
    "print(\"IH01 test set: \\n\", test_new[['monocytes', 'predicted']].corr())"
   ]
  },
  {
   "cell_type": "code",
   "execution_count": 71,
   "id": "a7301276",
   "metadata": {
    "hidden": true,
    "scrolled": true
   },
   "outputs": [
    {
     "data": {
      "text/plain": [
       "'Trainings score: '"
      ]
     },
     "metadata": {},
     "output_type": "display_data"
    },
    {
     "data": {
      "text/plain": [
       "0.26961362494088315"
      ]
     },
     "metadata": {},
     "output_type": "display_data"
    },
    {
     "data": {
      "text/plain": [
       "'Trainings RMSE: '"
      ]
     },
     "metadata": {},
     "output_type": "display_data"
    },
    {
     "data": {
      "text/plain": [
       "1.8339064208313245"
      ]
     },
     "metadata": {},
     "output_type": "display_data"
    },
    {
     "data": {
      "text/plain": [
       "'Test score: '"
      ]
     },
     "metadata": {},
     "output_type": "display_data"
    },
    {
     "data": {
      "text/plain": [
       "0.14689189938272174"
      ]
     },
     "metadata": {},
     "output_type": "display_data"
    },
    {
     "data": {
      "text/plain": [
       "'Test RMSE: '"
      ]
     },
     "metadata": {},
     "output_type": "display_data"
    },
    {
     "data": {
      "text/plain": [
       "2.151139984305018"
      ]
     },
     "metadata": {},
     "output_type": "display_data"
    }
   ],
   "source": [
    "from sklearn import metrics\n",
    "\n",
    "##score rf model\n",
    "\n",
    "display('Trainings score: ', rf.score(train_new.drop([\"monocytes\",\"predicted\"], axis = 1), train_new.loc[:,'monocytes']))\n",
    "display('Trainings RMSE: ', metrics.mean_squared_error(train_new.loc[:,'monocytes'], train_new.loc[:,'predicted']))\n",
    "display('Test score: ', rf.score(test_new.drop([\"monocytes\",\"predicted\"], axis = 1), test_new.loc[:,'monocytes']))\n",
    "display('Test RMSE: ',metrics.mean_squared_error(test_new.loc[:,'monocytes'], test_new.loc[:,'predicted']))\n"
   ]
  },
  {
   "cell_type": "markdown",
   "id": "def3c238",
   "metadata": {
    "heading_collapsed": true
   },
   "source": [
    "## Feature importances "
   ]
  },
  {
   "cell_type": "code",
   "execution_count": 114,
   "id": "c36bcfd5",
   "metadata": {
    "hidden": true
   },
   "outputs": [
    {
     "data": {
      "text/html": [
       "<div>\n",
       "<style scoped>\n",
       "    .dataframe tbody tr th:only-of-type {\n",
       "        vertical-align: middle;\n",
       "    }\n",
       "\n",
       "    .dataframe tbody tr th {\n",
       "        vertical-align: top;\n",
       "    }\n",
       "\n",
       "    .dataframe thead th {\n",
       "        text-align: right;\n",
       "    }\n",
       "</style>\n",
       "<table border=\"1\" class=\"dataframe\">\n",
       "  <thead>\n",
       "    <tr style=\"text-align: right;\">\n",
       "      <th></th>\n",
       "      <th>feature</th>\n",
       "      <th>importance</th>\n",
       "    </tr>\n",
       "  </thead>\n",
       "  <tbody>\n",
       "    <tr>\n",
       "      <th>23</th>\n",
       "      <td>mean_cov_2k</td>\n",
       "      <td>0.053435</td>\n",
       "    </tr>\n",
       "    <tr>\n",
       "      <th>22</th>\n",
       "      <td>variance_cov_2k</td>\n",
       "      <td>0.050819</td>\n",
       "    </tr>\n",
       "    <tr>\n",
       "      <th>2</th>\n",
       "      <td>199</td>\n",
       "      <td>0.045286</td>\n",
       "    </tr>\n",
       "    <tr>\n",
       "      <th>16</th>\n",
       "      <td>mean_cov_body1kb</td>\n",
       "      <td>0.045152</td>\n",
       "    </tr>\n",
       "    <tr>\n",
       "      <th>1</th>\n",
       "      <td>202</td>\n",
       "      <td>0.044526</td>\n",
       "    </tr>\n",
       "    <tr>\n",
       "      <th>3</th>\n",
       "      <td>196</td>\n",
       "      <td>0.037848</td>\n",
       "    </tr>\n",
       "    <tr>\n",
       "      <th>0</th>\n",
       "      <td>205</td>\n",
       "      <td>0.034913</td>\n",
       "    </tr>\n",
       "    <tr>\n",
       "      <th>34</th>\n",
       "      <td>amp1</td>\n",
       "      <td>0.03387</td>\n",
       "    </tr>\n",
       "    <tr>\n",
       "      <th>35</th>\n",
       "      <td>amp2</td>\n",
       "      <td>0.030073</td>\n",
       "    </tr>\n",
       "    <tr>\n",
       "      <th>9</th>\n",
       "      <td>180</td>\n",
       "      <td>0.029317</td>\n",
       "    </tr>\n",
       "    <tr>\n",
       "      <th>10</th>\n",
       "      <td>177</td>\n",
       "      <td>0.028637</td>\n",
       "    </tr>\n",
       "    <tr>\n",
       "      <th>24</th>\n",
       "      <td>median_cov_2k</td>\n",
       "      <td>0.02822</td>\n",
       "    </tr>\n",
       "    <tr>\n",
       "      <th>18</th>\n",
       "      <td>var_cov_body1kb</td>\n",
       "      <td>0.027886</td>\n",
       "    </tr>\n",
       "    <tr>\n",
       "      <th>21</th>\n",
       "      <td>var_cov_upstream1kb</td>\n",
       "      <td>0.026462</td>\n",
       "    </tr>\n",
       "    <tr>\n",
       "      <th>32</th>\n",
       "      <td>mean_wps_2k</td>\n",
       "      <td>0.026042</td>\n",
       "    </tr>\n",
       "    <tr>\n",
       "      <th>15</th>\n",
       "      <td>166</td>\n",
       "      <td>0.025983</td>\n",
       "    </tr>\n",
       "    <tr>\n",
       "      <th>30</th>\n",
       "      <td>var_wps_upstream1kb</td>\n",
       "      <td>0.024465</td>\n",
       "    </tr>\n",
       "    <tr>\n",
       "      <th>11</th>\n",
       "      <td>175</td>\n",
       "      <td>0.023762</td>\n",
       "    </tr>\n",
       "    <tr>\n",
       "      <th>4</th>\n",
       "      <td>193</td>\n",
       "      <td>0.022973</td>\n",
       "    </tr>\n",
       "    <tr>\n",
       "      <th>8</th>\n",
       "      <td>182</td>\n",
       "      <td>0.022885</td>\n",
       "    </tr>\n",
       "    <tr>\n",
       "      <th>31</th>\n",
       "      <td>variance_wps_2k</td>\n",
       "      <td>0.022409</td>\n",
       "    </tr>\n",
       "    <tr>\n",
       "      <th>6</th>\n",
       "      <td>187</td>\n",
       "      <td>0.022386</td>\n",
       "    </tr>\n",
       "    <tr>\n",
       "      <th>19</th>\n",
       "      <td>mean_cov_upstream1kb</td>\n",
       "      <td>0.022361</td>\n",
       "    </tr>\n",
       "    <tr>\n",
       "      <th>14</th>\n",
       "      <td>168</td>\n",
       "      <td>0.022136</td>\n",
       "    </tr>\n",
       "    <tr>\n",
       "      <th>12</th>\n",
       "      <td>173</td>\n",
       "      <td>0.021496</td>\n",
       "    </tr>\n",
       "    <tr>\n",
       "      <th>13</th>\n",
       "      <td>170</td>\n",
       "      <td>0.021454</td>\n",
       "    </tr>\n",
       "    <tr>\n",
       "      <th>5</th>\n",
       "      <td>190</td>\n",
       "      <td>0.021317</td>\n",
       "    </tr>\n",
       "    <tr>\n",
       "      <th>7</th>\n",
       "      <td>185</td>\n",
       "      <td>0.020879</td>\n",
       "    </tr>\n",
       "    <tr>\n",
       "      <th>25</th>\n",
       "      <td>mean_wps_body1kb</td>\n",
       "      <td>0.020709</td>\n",
       "    </tr>\n",
       "    <tr>\n",
       "      <th>27</th>\n",
       "      <td>var_wps_body1kb</td>\n",
       "      <td>0.020354</td>\n",
       "    </tr>\n",
       "    <tr>\n",
       "      <th>37</th>\n",
       "      <td>ndr_width2</td>\n",
       "      <td>0.019557</td>\n",
       "    </tr>\n",
       "    <tr>\n",
       "      <th>36</th>\n",
       "      <td>ndr_width1</td>\n",
       "      <td>0.019032</td>\n",
       "    </tr>\n",
       "    <tr>\n",
       "      <th>17</th>\n",
       "      <td>median_cov_body1kb</td>\n",
       "      <td>0.018963</td>\n",
       "    </tr>\n",
       "    <tr>\n",
       "      <th>28</th>\n",
       "      <td>mean_wps_upstream1kb</td>\n",
       "      <td>0.018469</td>\n",
       "    </tr>\n",
       "    <tr>\n",
       "      <th>20</th>\n",
       "      <td>median_cov_upstream1kb</td>\n",
       "      <td>0.012247</td>\n",
       "    </tr>\n",
       "    <tr>\n",
       "      <th>33</th>\n",
       "      <td>median_wps_2k</td>\n",
       "      <td>0.011578</td>\n",
       "    </tr>\n",
       "    <tr>\n",
       "      <th>29</th>\n",
       "      <td>median_wps_upstream1kb</td>\n",
       "      <td>0.011252</td>\n",
       "    </tr>\n",
       "    <tr>\n",
       "      <th>26</th>\n",
       "      <td>median_wps_body1kb</td>\n",
       "      <td>0.010847</td>\n",
       "    </tr>\n",
       "  </tbody>\n",
       "</table>\n",
       "</div>"
      ],
      "text/plain": [
       "                   feature importance\n",
       "23             mean_cov_2k   0.053435\n",
       "22         variance_cov_2k   0.050819\n",
       "2                      199   0.045286\n",
       "16        mean_cov_body1kb   0.045152\n",
       "1                      202   0.044526\n",
       "3                      196   0.037848\n",
       "0                      205   0.034913\n",
       "34                    amp1    0.03387\n",
       "35                    amp2   0.030073\n",
       "9                      180   0.029317\n",
       "10                     177   0.028637\n",
       "24           median_cov_2k    0.02822\n",
       "18         var_cov_body1kb   0.027886\n",
       "21     var_cov_upstream1kb   0.026462\n",
       "32             mean_wps_2k   0.026042\n",
       "15                     166   0.025983\n",
       "30     var_wps_upstream1kb   0.024465\n",
       "11                     175   0.023762\n",
       "4                      193   0.022973\n",
       "8                      182   0.022885\n",
       "31         variance_wps_2k   0.022409\n",
       "6                      187   0.022386\n",
       "19    mean_cov_upstream1kb   0.022361\n",
       "14                     168   0.022136\n",
       "12                     173   0.021496\n",
       "13                     170   0.021454\n",
       "5                      190   0.021317\n",
       "7                      185   0.020879\n",
       "25        mean_wps_body1kb   0.020709\n",
       "27         var_wps_body1kb   0.020354\n",
       "37              ndr_width2   0.019557\n",
       "36              ndr_width1   0.019032\n",
       "17      median_cov_body1kb   0.018963\n",
       "28    mean_wps_upstream1kb   0.018469\n",
       "20  median_cov_upstream1kb   0.012247\n",
       "33           median_wps_2k   0.011578\n",
       "29  median_wps_upstream1kb   0.011252\n",
       "26      median_wps_body1kb   0.010847"
      ]
     },
     "execution_count": 114,
     "metadata": {},
     "output_type": "execute_result"
    }
   ],
   "source": [
    "# get feature importances\n",
    "importance = rf.feature_importances_\n",
    "imp_features = pd.DataFrame(columns = ['feature', 'importance'])\n",
    "\n",
    "\n",
    "# summarize feature importances\n",
    "for i,v in enumerate(importance):\n",
    "    imp_features.loc[i,:] = [train.columns[i],v]\n",
    "\n",
    "imp_features.sort_values(by = 'importance', ascending = False)"
   ]
  },
  {
   "cell_type": "markdown",
   "id": "ded86f6b",
   "metadata": {
    "heading_collapsed": true
   },
   "source": [
    "## Test model on other samples"
   ]
  },
  {
   "cell_type": "code",
   "execution_count": 66,
   "id": "dc4481ca",
   "metadata": {
    "hidden": true
   },
   "outputs": [],
   "source": [
    "##predict expression of a cancer sample (IC17)\n",
    "\n",
    "features_IC17.loc[:,'predicted'] = rf.predict(np.array(features_IC17.drop([\"monocytes\"], axis = 1)))"
   ]
  },
  {
   "cell_type": "code",
   "execution_count": 67,
   "id": "f44e1525",
   "metadata": {
    "hidden": true
   },
   "outputs": [
    {
     "data": {
      "text/plain": [
       "<matplotlib.collections.PathCollection at 0x2b3e7900abb0>"
      ]
     },
     "execution_count": 67,
     "metadata": {},
     "output_type": "execute_result"
    },
    {
     "data": {
      "image/png": "[encoded data removed]",
      "text/plain": [
       "<Figure size 432x288 with 1 Axes>"
      ]
     },
     "metadata": {
      "needs_background": "light"
     },
     "output_type": "display_data"
    }
   ],
   "source": [
    "##plot real expression against predicted expression\n",
    "plt.scatter(features_IC17.loc[:,'monocytes'], features_IC17.loc[:,'predicted'], s = 2, alpha = 0.7)"
   ]
  },
  {
   "cell_type": "code",
   "execution_count": 41,
   "id": "b4874bea",
   "metadata": {
    "hidden": true,
    "scrolled": true
   },
   "outputs": [
    {
     "data": {
      "text/html": [
       "<div>\n",
       "<style scoped>\n",
       "    .dataframe tbody tr th:only-of-type {\n",
       "        vertical-align: middle;\n",
       "    }\n",
       "\n",
       "    .dataframe tbody tr th {\n",
       "        vertical-align: top;\n",
       "    }\n",
       "\n",
       "    .dataframe thead th {\n",
       "        text-align: right;\n",
       "    }\n",
       "</style>\n",
       "<table border=\"1\" class=\"dataframe\">\n",
       "  <thead>\n",
       "    <tr style=\"text-align: right;\">\n",
       "      <th></th>\n",
       "      <th>monocytes</th>\n",
       "      <th>predicted</th>\n",
       "    </tr>\n",
       "  </thead>\n",
       "  <tbody>\n",
       "    <tr>\n",
       "      <th>monocytes</th>\n",
       "      <td>1.000000</td>\n",
       "      <td>0.185608</td>\n",
       "    </tr>\n",
       "    <tr>\n",
       "      <th>predicted</th>\n",
       "      <td>0.185608</td>\n",
       "      <td>1.000000</td>\n",
       "    </tr>\n",
       "  </tbody>\n",
       "</table>\n",
       "</div>"
      ],
      "text/plain": [
       "           monocytes  predicted\n",
       "monocytes   1.000000   0.185608\n",
       "predicted   0.185608   1.000000"
      ]
     },
     "execution_count": 41,
     "metadata": {},
     "output_type": "execute_result"
    }
   ],
   "source": [
    "##print correlation \n",
    "features_IC17[['monocytes', 'predicted']].corr()"
   ]
  },
  {
   "cell_type": "markdown",
   "id": "2f59fda8",
   "metadata": {},
   "source": [
    "# Compare predictions "
   ]
  },
  {
   "cell_type": "markdown",
   "id": "6b8c7ac7",
   "metadata": {
    "heading_collapsed": true
   },
   "source": [
    "## Differentially predicted (expressed) genes "
   ]
  },
  {
   "cell_type": "code",
   "execution_count": 46,
   "id": "6ccb6601",
   "metadata": {
    "hidden": true
   },
   "outputs": [
    {
     "data": {
      "text/html": [
       "<div>\n",
       "<style scoped>\n",
       "    .dataframe tbody tr th:only-of-type {\n",
       "        vertical-align: middle;\n",
       "    }\n",
       "\n",
       "    .dataframe tbody tr th {\n",
       "        vertical-align: top;\n",
       "    }\n",
       "\n",
       "    .dataframe thead th {\n",
       "        text-align: right;\n",
       "    }\n",
       "</style>\n",
       "<table border=\"1\" class=\"dataframe\">\n",
       "  <thead>\n",
       "    <tr style=\"text-align: right;\">\n",
       "      <th></th>\n",
       "      <th>diff</th>\n",
       "    </tr>\n",
       "  </thead>\n",
       "  <tbody>\n",
       "    <tr>\n",
       "      <th>ENSG00000000419</th>\n",
       "      <td>0</td>\n",
       "    </tr>\n",
       "    <tr>\n",
       "      <th>ENSG00000000457</th>\n",
       "      <td>0</td>\n",
       "    </tr>\n",
       "    <tr>\n",
       "      <th>ENSG00000000460</th>\n",
       "      <td>0</td>\n",
       "    </tr>\n",
       "    <tr>\n",
       "      <th>ENSG00000000938</th>\n",
       "      <td>0</td>\n",
       "    </tr>\n",
       "    <tr>\n",
       "      <th>ENSG00000001036</th>\n",
       "      <td>0</td>\n",
       "    </tr>\n",
       "    <tr>\n",
       "      <th>...</th>\n",
       "      <td>...</td>\n",
       "    </tr>\n",
       "    <tr>\n",
       "      <th>ENSG00000126217</th>\n",
       "      <td>0</td>\n",
       "    </tr>\n",
       "    <tr>\n",
       "      <th>ENSG00000109956</th>\n",
       "      <td>0</td>\n",
       "    </tr>\n",
       "    <tr>\n",
       "      <th>ENSG00000206538</th>\n",
       "      <td>0</td>\n",
       "    </tr>\n",
       "    <tr>\n",
       "      <th>ENSG00000185272</th>\n",
       "      <td>0</td>\n",
       "    </tr>\n",
       "    <tr>\n",
       "      <th>ENSG00000166979</th>\n",
       "      <td>0</td>\n",
       "    </tr>\n",
       "  </tbody>\n",
       "</table>\n",
       "<p>11276 rows × 1 columns</p>\n",
       "</div>"
      ],
      "text/plain": [
       "                 diff\n",
       "ENSG00000000419     0\n",
       "ENSG00000000457     0\n",
       "ENSG00000000460     0\n",
       "ENSG00000000938     0\n",
       "ENSG00000001036     0\n",
       "...               ...\n",
       "ENSG00000126217     0\n",
       "ENSG00000109956     0\n",
       "ENSG00000206538     0\n",
       "ENSG00000185272     0\n",
       "ENSG00000166979     0\n",
       "\n",
       "[11276 rows x 1 columns]"
      ]
     },
     "execution_count": 46,
     "metadata": {},
     "output_type": "execute_result"
    }
   ],
   "source": [
    "##dataframe for differentially expressed genes\n",
    "de_genes = pd.DataFrame(index = features_IC17.index)\n",
    "de_genes[\"diff\"] = 0\n",
    "de_genes"
   ]
  },
  {
   "cell_type": "code",
   "execution_count": 61,
   "id": "55e4c395",
   "metadata": {
    "hidden": true
   },
   "outputs": [
    {
     "data": {
      "text/plain": [
       "array([ True,  True,  True, ...,  True,  True,  True])"
      ]
     },
     "execution_count": 61,
     "metadata": {},
     "output_type": "execute_result"
    }
   ],
   "source": [
    "features_IH01 = train_new.append(test_new)\n",
    "features_IH01_ordered = features_IH01.loc[features_IC17.index,:]"
   ]
  },
  {
   "cell_type": "code",
   "execution_count": 62,
   "id": "9dde56de",
   "metadata": {
    "hidden": true
   },
   "outputs": [],
   "source": [
    "##calculate differences in expression of IC17\n",
    "for g in features_IC17.index: \n",
    "    de_genes.loc[g, \"diff\"] = max(features_IC17.loc[g,'predicted'] - features_IH01_ordered.loc[g,'predicted'], features_IH01_ordered.loc[g,'predicted'] - features_IC17.loc[g,'predicted'])\n",
    "    "
   ]
  },
  {
   "cell_type": "code",
   "execution_count": 63,
   "id": "e2608e5a",
   "metadata": {
    "hidden": true
   },
   "outputs": [],
   "source": [
    "##get 500 most differentially expressed genes \n",
    "de_genes_top500 = de_genes.nlargest(500, columns = \"diff\")"
   ]
  },
  {
   "cell_type": "code",
   "execution_count": 64,
   "id": "1bf03d7b",
   "metadata": {
    "hidden": true
   },
   "outputs": [
    {
     "data": {
      "text/plain": [
       "Index(['ENSG00000162366', 'ENSG00000135480', 'ENSG00000250120',\n",
       "       'ENSG00000154065', 'ENSG00000196689', 'ENSG00000176909',\n",
       "       'ENSG00000176658', 'ENSG00000115363', 'ENSG00000180089',\n",
       "       'ENSG00000137809',\n",
       "       ...\n",
       "       'ENSG00000019549', 'ENSG00000167216', 'ENSG00000267179',\n",
       "       'ENSG00000109771', 'ENSG00000149260', 'ENSG00000170545',\n",
       "       'ENSG00000145217', 'ENSG00000159917', 'ENSG00000166762',\n",
       "       'ENSG00000174567'],\n",
       "      dtype='object', length=500)"
      ]
     },
     "execution_count": 64,
     "metadata": {},
     "output_type": "execute_result"
    }
   ],
   "source": [
    "de_genes_top500.index\n"
   ]
  },
  {
   "cell_type": "markdown",
   "id": "6ffe5f1e",
   "metadata": {
    "heading_collapsed": true,
    "hidden": true
   },
   "source": [
    "### Save top 500 and background genes (GeneOrganizer, David) "
   ]
  },
  {
   "cell_type": "code",
   "execution_count": 65,
   "id": "ac29550d",
   "metadata": {
    "hidden": true
   },
   "outputs": [],
   "source": [
    "pd.DataFrame(index = de_genes_top500.index).to_csv(\"cfDNA-reanalysis_Graz/kristin/rf_model/IC17/de_genes500.csv\") \n",
    "pd.DataFrame(index = de_genes.index).to_csv(\"cfDNA-reanalysis_Graz/kristin/rf_model/background_genes.csv\") "
   ]
  },
  {
   "cell_type": "code",
   "execution_count": 66,
   "id": "fe5e5b3f",
   "metadata": {
    "hidden": true
   },
   "outputs": [
    {
     "data": {
      "text/html": [
       "<div>\n",
       "<style scoped>\n",
       "    .dataframe tbody tr th:only-of-type {\n",
       "        vertical-align: middle;\n",
       "    }\n",
       "\n",
       "    .dataframe tbody tr th {\n",
       "        vertical-align: top;\n",
       "    }\n",
       "\n",
       "    .dataframe thead th {\n",
       "        text-align: right;\n",
       "    }\n",
       "</style>\n",
       "<table border=\"1\" class=\"dataframe\">\n",
       "  <thead>\n",
       "    <tr style=\"text-align: right;\">\n",
       "      <th></th>\n",
       "      <th>diff</th>\n",
       "    </tr>\n",
       "  </thead>\n",
       "  <tbody>\n",
       "    <tr>\n",
       "      <th>ENSG00000162366</th>\n",
       "      <td>2.658698</td>\n",
       "    </tr>\n",
       "    <tr>\n",
       "      <th>ENSG00000135480</th>\n",
       "      <td>2.290151</td>\n",
       "    </tr>\n",
       "    <tr>\n",
       "      <th>ENSG00000250120</th>\n",
       "      <td>2.260864</td>\n",
       "    </tr>\n",
       "    <tr>\n",
       "      <th>ENSG00000154065</th>\n",
       "      <td>2.250567</td>\n",
       "    </tr>\n",
       "    <tr>\n",
       "      <th>ENSG00000196689</th>\n",
       "      <td>2.234371</td>\n",
       "    </tr>\n",
       "    <tr>\n",
       "      <th>...</th>\n",
       "      <td>...</td>\n",
       "    </tr>\n",
       "    <tr>\n",
       "      <th>ENSG00000170545</th>\n",
       "      <td>1.455839</td>\n",
       "    </tr>\n",
       "    <tr>\n",
       "      <th>ENSG00000145217</th>\n",
       "      <td>1.455223</td>\n",
       "    </tr>\n",
       "    <tr>\n",
       "      <th>ENSG00000159917</th>\n",
       "      <td>1.454548</td>\n",
       "    </tr>\n",
       "    <tr>\n",
       "      <th>ENSG00000166762</th>\n",
       "      <td>1.454435</td>\n",
       "    </tr>\n",
       "    <tr>\n",
       "      <th>ENSG00000174567</th>\n",
       "      <td>1.454310</td>\n",
       "    </tr>\n",
       "  </tbody>\n",
       "</table>\n",
       "<p>500 rows × 1 columns</p>\n",
       "</div>"
      ],
      "text/plain": [
       "                     diff\n",
       "ENSG00000162366  2.658698\n",
       "ENSG00000135480  2.290151\n",
       "ENSG00000250120  2.260864\n",
       "ENSG00000154065  2.250567\n",
       "ENSG00000196689  2.234371\n",
       "...                   ...\n",
       "ENSG00000170545  1.455839\n",
       "ENSG00000145217  1.455223\n",
       "ENSG00000159917  1.454548\n",
       "ENSG00000166762  1.454435\n",
       "ENSG00000174567  1.454310\n",
       "\n",
       "[500 rows x 1 columns]"
      ]
     },
     "execution_count": 66,
     "metadata": {},
     "output_type": "execute_result"
    }
   ],
   "source": [
    "de_genes_top500"
   ]
  },
  {
   "cell_type": "markdown",
   "id": "255b4814",
   "metadata": {
    "heading_collapsed": true,
    "hidden": true
   },
   "source": [
    "### GSEA "
   ]
  },
  {
   "cell_type": "code",
   "execution_count": 268,
   "id": "ef3e2ec3",
   "metadata": {
    "hidden": true
   },
   "outputs": [],
   "source": [
    "import pybiomart as pbm \n",
    "\n",
    "##get biomart dataset \n",
    "dataset = pbm.Dataset(name='hsapiens_gene_ensembl', host='http://www.ensembl.org')"
   ]
  },
  {
   "cell_type": "code",
   "execution_count": 112,
   "id": "a3d9e8ed",
   "metadata": {
    "hidden": true,
    "scrolled": true
   },
   "outputs": [
    {
     "data": {
      "text/html": [
       "<div>\n",
       "<style scoped>\n",
       "    .dataframe tbody tr th:only-of-type {\n",
       "        vertical-align: middle;\n",
       "    }\n",
       "\n",
       "    .dataframe tbody tr th {\n",
       "        vertical-align: top;\n",
       "    }\n",
       "\n",
       "    .dataframe thead th {\n",
       "        text-align: right;\n",
       "    }\n",
       "</style>\n",
       "<table border=\"1\" class=\"dataframe\">\n",
       "  <thead>\n",
       "    <tr style=\"text-align: right;\">\n",
       "      <th></th>\n",
       "      <th>diff</th>\n",
       "      <th>Gene stable ID</th>\n",
       "      <th>Gene name</th>\n",
       "    </tr>\n",
       "  </thead>\n",
       "  <tbody>\n",
       "    <tr>\n",
       "      <th>53984</th>\n",
       "      <td>6.034852</td>\n",
       "      <td>ENSG00000087086</td>\n",
       "      <td>FTL</td>\n",
       "    </tr>\n",
       "    <tr>\n",
       "      <th>63119</th>\n",
       "      <td>5.830747</td>\n",
       "      <td>ENSG00000163220</td>\n",
       "      <td>S100A9</td>\n",
       "    </tr>\n",
       "    <tr>\n",
       "      <th>54265</th>\n",
       "      <td>5.624382</td>\n",
       "      <td>ENSG00000090382</td>\n",
       "      <td>LYZ</td>\n",
       "    </tr>\n",
       "    <tr>\n",
       "      <th>63122</th>\n",
       "      <td>5.446274</td>\n",
       "      <td>ENSG00000143546</td>\n",
       "      <td>S100A8</td>\n",
       "    </tr>\n",
       "    <tr>\n",
       "      <th>41536</th>\n",
       "      <td>5.377751</td>\n",
       "      <td>ENSG00000085265</td>\n",
       "      <td>FCN1</td>\n",
       "    </tr>\n",
       "    <tr>\n",
       "      <th>...</th>\n",
       "      <td>...</td>\n",
       "      <td>...</td>\n",
       "      <td>...</td>\n",
       "    </tr>\n",
       "    <tr>\n",
       "      <th>66069</th>\n",
       "      <td>3.104480</td>\n",
       "      <td>ENSG00000180902</td>\n",
       "      <td>D2HGDH</td>\n",
       "    </tr>\n",
       "    <tr>\n",
       "      <th>42618</th>\n",
       "      <td>3.102744</td>\n",
       "      <td>ENSG00000177363</td>\n",
       "      <td>LRRN4CL</td>\n",
       "    </tr>\n",
       "    <tr>\n",
       "      <th>24054</th>\n",
       "      <td>3.102378</td>\n",
       "      <td>ENSG00000182108</td>\n",
       "      <td>DEXI</td>\n",
       "    </tr>\n",
       "    <tr>\n",
       "      <th>45656</th>\n",
       "      <td>3.097899</td>\n",
       "      <td>ENSG00000149806</td>\n",
       "      <td>FAU</td>\n",
       "    </tr>\n",
       "    <tr>\n",
       "      <th>27379</th>\n",
       "      <td>3.097071</td>\n",
       "      <td>ENSG00000102359</td>\n",
       "      <td>SRPX2</td>\n",
       "    </tr>\n",
       "  </tbody>\n",
       "</table>\n",
       "<p>500 rows × 3 columns</p>\n",
       "</div>"
      ],
      "text/plain": [
       "           diff   Gene stable ID Gene name\n",
       "53984  6.034852  ENSG00000087086       FTL\n",
       "63119  5.830747  ENSG00000163220    S100A9\n",
       "54265  5.624382  ENSG00000090382       LYZ\n",
       "63122  5.446274  ENSG00000143546    S100A8\n",
       "41536  5.377751  ENSG00000085265      FCN1\n",
       "...         ...              ...       ...\n",
       "66069  3.104480  ENSG00000180902    D2HGDH\n",
       "42618  3.102744  ENSG00000177363   LRRN4CL\n",
       "24054  3.102378  ENSG00000182108      DEXI\n",
       "45656  3.097899  ENSG00000149806       FAU\n",
       "27379  3.097071  ENSG00000102359     SRPX2\n",
       "\n",
       "[500 rows x 3 columns]"
      ]
     },
     "execution_count": 112,
     "metadata": {},
     "output_type": "execute_result"
    }
   ],
   "source": [
    "##get gene name for each gene id in de_genes\n",
    "names = dataset.query(attributes=['ensembl_gene_id', 'external_gene_name'])\n",
    "de_genes_top500 = de_genes_top500.merge(names, left_index = True, right_on = 'Gene stable ID')\n",
    "de_genes_top500"
   ]
  },
  {
   "cell_type": "code",
   "execution_count": 41,
   "id": "0da378ca",
   "metadata": {
    "hidden": true
   },
   "outputs": [
    {
     "data": {
      "text/plain": [
       "['ARCHS4_Cell-lines',\n",
       " 'ARCHS4_IDG_Coexp',\n",
       " 'ARCHS4_Kinases_Coexp',\n",
       " 'ARCHS4_TFs_Coexp',\n",
       " 'ARCHS4_Tissues',\n",
       " 'Achilles_fitness_decrease',\n",
       " 'Achilles_fitness_increase',\n",
       " 'Aging_Perturbations_from_GEO_down',\n",
       " 'Aging_Perturbations_from_GEO_up',\n",
       " 'Allen_Brain_Atlas_10x_scRNA_2021',\n",
       " 'Allen_Brain_Atlas_down',\n",
       " 'Allen_Brain_Atlas_up',\n",
       " 'BioCarta_2013',\n",
       " 'BioCarta_2015',\n",
       " 'BioCarta_2016',\n",
       " 'BioPlanet_2019',\n",
       " 'BioPlex_2017',\n",
       " 'CCLE_Proteomics_2020',\n",
       " 'CORUM',\n",
       " 'COVID-19_Related_Gene_Sets',\n",
       " 'Cancer_Cell_Line_Encyclopedia',\n",
       " 'ChEA_2013',\n",
       " 'ChEA_2015',\n",
       " 'ChEA_2016',\n",
       " 'Chromosome_Location',\n",
       " 'Chromosome_Location_hg19',\n",
       " 'ClinVar_2019',\n",
       " 'DSigDB',\n",
       " 'Data_Acquisition_Method_Most_Popular_Genes',\n",
       " 'DepMap_WG_CRISPR_Screens_Broad_CellLines_2019',\n",
       " 'DepMap_WG_CRISPR_Screens_Sanger_CellLines_2019',\n",
       " 'Descartes_Cell_Types_and_Tissue_2021',\n",
       " 'DisGeNET',\n",
       " 'Disease_Perturbations_from_GEO_down',\n",
       " 'Disease_Perturbations_from_GEO_up',\n",
       " 'Disease_Signatures_from_GEO_down_2014',\n",
       " 'Disease_Signatures_from_GEO_up_2014',\n",
       " 'DrugMatrix',\n",
       " 'Drug_Perturbations_from_GEO_2014',\n",
       " 'Drug_Perturbations_from_GEO_down',\n",
       " 'Drug_Perturbations_from_GEO_up',\n",
       " 'ENCODE_Histone_Modifications_2013',\n",
       " 'ENCODE_Histone_Modifications_2015',\n",
       " 'ENCODE_TF_ChIP-seq_2014',\n",
       " 'ENCODE_TF_ChIP-seq_2015',\n",
       " 'ENCODE_and_ChEA_Consensus_TFs_from_ChIP-X',\n",
       " 'ESCAPE',\n",
       " 'Elsevier_Pathway_Collection',\n",
       " 'Enrichr_Libraries_Most_Popular_Genes',\n",
       " 'Enrichr_Submissions_TF-Gene_Coocurrence',\n",
       " 'Enrichr_Users_Contributed_Lists_2020',\n",
       " 'Epigenomics_Roadmap_HM_ChIP-seq',\n",
       " 'GO_Biological_Process_2013',\n",
       " 'GO_Biological_Process_2015',\n",
       " 'GO_Biological_Process_2017',\n",
       " 'GO_Biological_Process_2017b',\n",
       " 'GO_Biological_Process_2018',\n",
       " 'GO_Cellular_Component_2013',\n",
       " 'GO_Cellular_Component_2015',\n",
       " 'GO_Cellular_Component_2017',\n",
       " 'GO_Cellular_Component_2017b',\n",
       " 'GO_Cellular_Component_2018',\n",
       " 'GO_Molecular_Function_2013',\n",
       " 'GO_Molecular_Function_2015',\n",
       " 'GO_Molecular_Function_2017',\n",
       " 'GO_Molecular_Function_2017b',\n",
       " 'GO_Molecular_Function_2018',\n",
       " 'GTEx_Tissue_Sample_Gene_Expression_Profiles_down',\n",
       " 'GTEx_Tissue_Sample_Gene_Expression_Profiles_up',\n",
       " 'GWAS_Catalog_2019',\n",
       " 'GeneSigDB',\n",
       " 'Gene_Perturbations_from_GEO_down',\n",
       " 'Gene_Perturbations_from_GEO_up',\n",
       " 'Genes_Associated_with_NIH_Grants',\n",
       " 'Genome_Browser_PWMs',\n",
       " 'HMDB_Metabolites',\n",
       " 'HMS_LINCS_KinomeScan',\n",
       " 'HomoloGene',\n",
       " 'HumanCyc_2015',\n",
       " 'HumanCyc_2016',\n",
       " 'Human_Gene_Atlas',\n",
       " 'Human_Phenotype_Ontology',\n",
       " 'InterPro_Domains_2019',\n",
       " 'Jensen_COMPARTMENTS',\n",
       " 'Jensen_DISEASES',\n",
       " 'Jensen_TISSUES',\n",
       " 'KEA_2013',\n",
       " 'KEA_2015',\n",
       " 'KEGG_2013',\n",
       " 'KEGG_2015',\n",
       " 'KEGG_2016',\n",
       " 'KEGG_2019_Human',\n",
       " 'KEGG_2019_Mouse',\n",
       " 'Kinase_Perturbations_from_GEO_down',\n",
       " 'Kinase_Perturbations_from_GEO_up',\n",
       " 'L1000_Kinase_and_GPCR_Perturbations_down',\n",
       " 'L1000_Kinase_and_GPCR_Perturbations_up',\n",
       " 'LINCS_L1000_Chem_Pert_down',\n",
       " 'LINCS_L1000_Chem_Pert_up',\n",
       " 'LINCS_L1000_Ligand_Perturbations_down',\n",
       " 'LINCS_L1000_Ligand_Perturbations_up',\n",
       " 'Ligand_Perturbations_from_GEO_down',\n",
       " 'Ligand_Perturbations_from_GEO_up',\n",
       " 'MCF7_Perturbations_from_GEO_down',\n",
       " 'MCF7_Perturbations_from_GEO_up',\n",
       " 'MGI_Mammalian_Phenotype_2013',\n",
       " 'MGI_Mammalian_Phenotype_2017',\n",
       " 'MGI_Mammalian_Phenotype_Level_3',\n",
       " 'MGI_Mammalian_Phenotype_Level_4',\n",
       " 'MGI_Mammalian_Phenotype_Level_4_2019',\n",
       " 'MSigDB_Computational',\n",
       " 'MSigDB_Hallmark_2020',\n",
       " 'MSigDB_Oncogenic_Signatures',\n",
       " 'Microbe_Perturbations_from_GEO_down',\n",
       " 'Microbe_Perturbations_from_GEO_up',\n",
       " 'Mouse_Gene_Atlas',\n",
       " 'NCI-60_Cancer_Cell_Lines',\n",
       " 'NCI-Nature_2015',\n",
       " 'NCI-Nature_2016',\n",
       " 'NIH_Funded_PIs_2017_AutoRIF_ARCHS4_Predictions',\n",
       " 'NIH_Funded_PIs_2017_GeneRIF_ARCHS4_Predictions',\n",
       " 'NIH_Funded_PIs_2017_Human_AutoRIF',\n",
       " 'NIH_Funded_PIs_2017_Human_GeneRIF',\n",
       " 'NURSA_Human_Endogenous_Complexome',\n",
       " 'OMIM_Disease',\n",
       " 'OMIM_Expanded',\n",
       " 'Old_CMAP_down',\n",
       " 'Old_CMAP_up',\n",
       " 'PPI_Hub_Proteins',\n",
       " 'Panther_2015',\n",
       " 'Panther_2016',\n",
       " 'Pfam_Domains_2019',\n",
       " 'Pfam_InterPro_Domains',\n",
       " 'PheWeb_2019',\n",
       " 'Phosphatase_Substrates_from_DEPOD',\n",
       " 'ProteomicsDB_2020',\n",
       " 'RNA-Seq_Disease_Gene_and_Drug_Signatures_from_GEO',\n",
       " 'Rare_Diseases_AutoRIF_ARCHS4_Predictions',\n",
       " 'Rare_Diseases_AutoRIF_Gene_Lists',\n",
       " 'Rare_Diseases_GeneRIF_ARCHS4_Predictions',\n",
       " 'Rare_Diseases_GeneRIF_Gene_Lists',\n",
       " 'Reactome_2013',\n",
       " 'Reactome_2015',\n",
       " 'Reactome_2016',\n",
       " 'SILAC_Phosphoproteomics',\n",
       " 'SubCell_BarCode',\n",
       " 'SysMyo_Muscle_Gene_Sets',\n",
       " 'TF-LOF_Expression_from_GEO',\n",
       " 'TF_Perturbations_Followed_by_Expression',\n",
       " 'TG_GATES_2020',\n",
       " 'TRANSFAC_and_JASPAR_PWMs',\n",
       " 'TRRUST_Transcription_Factors_2019',\n",
       " 'Table_Mining_of_CRISPR_Studies',\n",
       " 'TargetScan_microRNA',\n",
       " 'TargetScan_microRNA_2017',\n",
       " 'Tissue_Protein_Expression_from_Human_Proteome_Map',\n",
       " 'Tissue_Protein_Expression_from_ProteomicsDB',\n",
       " 'Transcription_Factor_PPIs',\n",
       " 'UK_Biobank_GWAS_v1',\n",
       " 'Virus-Host_PPI_P-HIPSTer_2020',\n",
       " 'VirusMINT',\n",
       " 'Virus_Perturbations_from_GEO_down',\n",
       " 'Virus_Perturbations_from_GEO_up',\n",
       " 'WikiPathways_2013',\n",
       " 'WikiPathways_2015',\n",
       " 'WikiPathways_2016',\n",
       " 'WikiPathways_2019_Human',\n",
       " 'WikiPathways_2019_Mouse',\n",
       " 'dbGaP',\n",
       " 'huMAP',\n",
       " 'lncHUB_lncRNA_Co-Expression',\n",
       " 'miRTarBase_2017']"
      ]
     },
     "execution_count": 41,
     "metadata": {},
     "output_type": "execute_result"
    }
   ],
   "source": [
    "##display gene sets\n",
    "names = gp.get_library_name()\n",
    "names"
   ]
  },
  {
   "cell_type": "code",
   "execution_count": 113,
   "id": "c741af80",
   "metadata": {
    "hidden": true,
    "scrolled": true
   },
   "outputs": [],
   "source": [
    "import gseapy as gp \n",
    "\n",
    "##enrichment analysis of de_genes \n",
    "enr = gp.enrichr(gene_list= list(de_genes_top500['Gene name']),\n",
    "                 gene_sets=['Cancer_Cell_Line_Encyclopedia','MSigDB_Oncogenic_Signatures'],\n",
    "                 organism='Human', # don't forget to set organism to the one you desired! e.g. Yeast\n",
    "                 description='DE_genes',\n",
    "                 outdir='cfDNA-reanalysis_Graz/kristin/rf_model/gsea/',\n",
    "                 cutoff=0.5 # test dataset, use lower value from range(0,1)\n",
    "                )"
   ]
  },
  {
   "cell_type": "code",
   "execution_count": 114,
   "id": "5acdfd91",
   "metadata": {
    "hidden": true
   },
   "outputs": [
    {
     "data": {
      "text/html": [
       "<div>\n",
       "<style scoped>\n",
       "    .dataframe tbody tr th:only-of-type {\n",
       "        vertical-align: middle;\n",
       "    }\n",
       "\n",
       "    .dataframe tbody tr th {\n",
       "        vertical-align: top;\n",
       "    }\n",
       "\n",
       "    .dataframe thead th {\n",
       "        text-align: right;\n",
       "    }\n",
       "</style>\n",
       "<table border=\"1\" class=\"dataframe\">\n",
       "  <thead>\n",
       "    <tr style=\"text-align: right;\">\n",
       "      <th></th>\n",
       "      <th>Gene_set</th>\n",
       "      <th>Term</th>\n",
       "      <th>Overlap</th>\n",
       "      <th>P-value</th>\n",
       "      <th>Adjusted P-value</th>\n",
       "      <th>Old P-value</th>\n",
       "      <th>Old Adjusted P-value</th>\n",
       "      <th>Odds Ratio</th>\n",
       "      <th>Combined Score</th>\n",
       "      <th>Genes</th>\n",
       "    </tr>\n",
       "  </thead>\n",
       "  <tbody>\n",
       "    <tr>\n",
       "      <th>0</th>\n",
       "      <td>Cancer_Cell_Line_Encyclopedia</td>\n",
       "      <td>HS571T OVARY</td>\n",
       "      <td>17/222</td>\n",
       "      <td>0.000046</td>\n",
       "      <td>0.040720</td>\n",
       "      <td>0</td>\n",
       "      <td>0</td>\n",
       "      <td>3.312781</td>\n",
       "      <td>33.068473</td>\n",
       "      <td>SLC24A3;PDE1C;SUSD2;EBF2;SOD3;CYGB;PARD3B;LRRN...</td>\n",
       "    </tr>\n",
       "    <tr>\n",
       "      <th>1</th>\n",
       "      <td>Cancer_Cell_Line_Encyclopedia</td>\n",
       "      <td>HS172T URINARY TRACT</td>\n",
       "      <td>13/150</td>\n",
       "      <td>0.000104</td>\n",
       "      <td>0.045688</td>\n",
       "      <td>0</td>\n",
       "      <td>0</td>\n",
       "      <td>3.772823</td>\n",
       "      <td>34.611258</td>\n",
       "      <td>SPON2;RARRES2;TMEM176B;TACR1;SOD3;CYGB;DLL4;SA...</td>\n",
       "    </tr>\n",
       "    <tr>\n",
       "      <th>2</th>\n",
       "      <td>Cancer_Cell_Line_Encyclopedia</td>\n",
       "      <td>WM115 SKIN</td>\n",
       "      <td>15/201</td>\n",
       "      <td>0.000170</td>\n",
       "      <td>0.049853</td>\n",
       "      <td>0</td>\n",
       "      <td>0</td>\n",
       "      <td>3.211506</td>\n",
       "      <td>27.879506</td>\n",
       "      <td>FLT1;PDE1C;CPXM2;LGI4;SLC35F1;TMEM171;FRMD5;MC...</td>\n",
       "    </tr>\n",
       "    <tr>\n",
       "      <th>3</th>\n",
       "      <td>Cancer_Cell_Line_Encyclopedia</td>\n",
       "      <td>HS675T LARGE INTESTINE</td>\n",
       "      <td>13/169</td>\n",
       "      <td>0.000339</td>\n",
       "      <td>0.069048</td>\n",
       "      <td>0</td>\n",
       "      <td>0</td>\n",
       "      <td>3.310062</td>\n",
       "      <td>26.447227</td>\n",
       "      <td>SPON2;FLT1;RARRES2;TMEM176B;CYGB;PARD3B;SGCD;G...</td>\n",
       "    </tr>\n",
       "    <tr>\n",
       "      <th>4</th>\n",
       "      <td>Cancer_Cell_Line_Encyclopedia</td>\n",
       "      <td>COLO783 SKIN</td>\n",
       "      <td>12/150</td>\n",
       "      <td>0.000398</td>\n",
       "      <td>0.069048</td>\n",
       "      <td>0</td>\n",
       "      <td>0</td>\n",
       "      <td>3.450107</td>\n",
       "      <td>27.009930</td>\n",
       "      <td>GPR143;MC1R;FLT1;SGCD;RTN4RL1;ADAMTS17;ALX1;SL...</td>\n",
       "    </tr>\n",
       "  </tbody>\n",
       "</table>\n",
       "</div>"
      ],
      "text/plain": [
       "                        Gene_set                    Term Overlap   P-value  \\\n",
       "0  Cancer_Cell_Line_Encyclopedia            HS571T OVARY  17/222  0.000046   \n",
       "1  Cancer_Cell_Line_Encyclopedia    HS172T URINARY TRACT  13/150  0.000104   \n",
       "2  Cancer_Cell_Line_Encyclopedia              WM115 SKIN  15/201  0.000170   \n",
       "3  Cancer_Cell_Line_Encyclopedia  HS675T LARGE INTESTINE  13/169  0.000339   \n",
       "4  Cancer_Cell_Line_Encyclopedia            COLO783 SKIN  12/150  0.000398   \n",
       "\n",
       "   Adjusted P-value  Old P-value  Old Adjusted P-value  Odds Ratio  \\\n",
       "0          0.040720            0                     0    3.312781   \n",
       "1          0.045688            0                     0    3.772823   \n",
       "2          0.049853            0                     0    3.211506   \n",
       "3          0.069048            0                     0    3.310062   \n",
       "4          0.069048            0                     0    3.450107   \n",
       "\n",
       "   Combined Score                                              Genes  \n",
       "0       33.068473  SLC24A3;PDE1C;SUSD2;EBF2;SOD3;CYGB;PARD3B;LRRN...  \n",
       "1       34.611258  SPON2;RARRES2;TMEM176B;TACR1;SOD3;CYGB;DLL4;SA...  \n",
       "2       27.879506  FLT1;PDE1C;CPXM2;LGI4;SLC35F1;TMEM171;FRMD5;MC...  \n",
       "3       26.447227  SPON2;FLT1;RARRES2;TMEM176B;CYGB;PARD3B;SGCD;G...  \n",
       "4       27.009930  GPR143;MC1R;FLT1;SGCD;RTN4RL1;ADAMTS17;ALX1;SL...  "
      ]
     },
     "execution_count": 114,
     "metadata": {},
     "output_type": "execute_result"
    }
   ],
   "source": [
    "enr.results.head()"
   ]
  }
 ],
 "metadata": {
  "kernelspec": {
   "display_name": "Python 3",
   "language": "python",
   "name": "python3"
  },
  "language_info": {
   "codemirror_mode": {
    "name": "ipython",
    "version": 3
   },
   "file_extension": ".py",
   "mimetype": "text/x-python",
   "name": "python",
   "nbconvert_exporter": "python",
   "pygments_lexer": "ipython3",
   "version": "3.9.2"
  },
  "toc": {
   "base_numbering": 1,
   "nav_menu": {},
   "number_sections": true,
   "sideBar": true,
   "skip_h1_title": false,
   "title_cell": "Table of Contents",
   "title_sidebar": "Contents",
   "toc_cell": false,
   "toc_position": {},
   "toc_section_display": true,
   "toc_window_display": false
  },
  "varInspector": {
   "cols": {
    "lenName": 16,
    "lenType": 16,
    "lenVar": 40
   },
   "kernels_config": {
    "python": {
     "delete_cmd_postfix": "",
     "delete_cmd_prefix": "del ",
     "library": "var_list.py",
     "varRefreshCmd": "print(var_dic_list())"
    },
    "r": {
     "delete_cmd_postfix": ") ",
     "delete_cmd_prefix": "rm(",
     "library": "var_list.r",
     "varRefreshCmd": "cat(var_dic_list()) "
    }
   },
   "types_to_exclude": [
    "module",
    "function",
    "builtin_function_or_method",
    "instance",
    "_Feature"
   ],
   "window_display": false
  }
 },
 "nbformat": 4,
 "nbformat_minor": 5
}
